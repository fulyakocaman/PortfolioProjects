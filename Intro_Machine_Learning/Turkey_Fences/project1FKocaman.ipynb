{
 "cells": [
  {
   "cell_type": "markdown",
   "metadata": {},
   "source": [
    "# CPSC 483-01 Project 1 Turkey Fences Due 2/25/2021\n",
    "   ## Student Name: Fulya Kocaman\n",
    "   ## Student ID: 803023878"
   ]
  },
  {
   "cell_type": "code",
   "execution_count": 1,
   "metadata": {},
   "outputs": [],
   "source": [
    "import csv\n",
    "from statistics import median\n",
    "\n",
    "with open(\"participants.csv\", \"r\") as csv_file:\n",
    "    csv_reader = csv.DictReader(csv_file, delimiter=',')\n",
    "    numbers = []\n",
    "    for lines in csv_reader:\n",
    "        numbers.append(int(lines['Week 1']))"
   ]
  },
  {
   "cell_type": "code",
   "execution_count": 2,
   "metadata": {},
   "outputs": [],
   "source": [
    "sortedNumbers = sorted(numbers)"
   ]
  },
  {
   "cell_type": "code",
   "execution_count": 3,
   "metadata": {},
   "outputs": [],
   "source": [
    " midLen = len(sortedNumbers) // 2 # results as an integer division"
   ]
  },
  {
   "cell_type": "code",
   "execution_count": 4,
   "metadata": {},
   "outputs": [],
   "source": [
    "if (len(sortedNumbers) % 2 == 0):\n",
    "    # since the length is even, Q1 is calculated up to the mid length, excluding index[midLen] \n",
    "   lowerQ = median(sortedNumbers[:midLen])\n",
    "    # Q3 is calculated starting from index[mid] \n",
    "   upperQ = median(sortedNumbers[midLen:])\n",
    "else:\n",
    "    # when the length odd, Q1 is calculated same as even\n",
    "   lowerQ = median(sortedNumbers[:midLen]) \n",
    "    # since the length is odd, Q3 is calculated starting from index[midLen+1], not including the median of the list \n",
    "   upperQ = median(sortedNumbers[midLen+1:])"
   ]
  },
  {
   "cell_type": "code",
   "execution_count": 5,
   "metadata": {},
   "outputs": [],
   "source": [
    "interQR = upperQ - lowerQ"
   ]
  },
  {
   "cell_type": "code",
   "execution_count": 6,
   "metadata": {},
   "outputs": [],
   "source": [
    "lowerFence = lowerQ - (1.5 * interQR)\n",
    "upperFence = upperQ + (1.5 * interQR)\n"
   ]
  },
  {
   "cell_type": "code",
   "execution_count": 7,
   "metadata": {},
   "outputs": [
    {
     "name": "stdout",
     "output_type": "stream",
     "text": [
      "[7, 11, 12]\n",
      "[110, 115, 91]\n"
     ]
    }
   ],
   "source": [
    "# Finds all the outliers if any data value is smaller than the lower Fence or larger than the upperFence\n",
    "outliers = []\n",
    "indexList = []\n",
    "count = 0 # index of each row number\n",
    "for num in numbers:\n",
    "    if num > upperFence or num < lowerFence:  \n",
    "        indexList.append(count)\n",
    "        outliers.append(num)\n",
    "    count += 1\n",
    "print(indexList)\n",
    "print(outliers)"
   ]
  },
  {
   "cell_type": "code",
   "execution_count": 20,
   "metadata": {},
   "outputs": [
    {
     "name": "stdout",
     "output_type": "stream",
     "text": [
      "Kaleb Cummings attended Week 1 for 156 minutes.\n",
      "Ameerah Fulton attended Week 1 for 158 minutes.\n",
      "Arman Mackie attended Week 1 for 157 minutes.\n"
     ]
    }
   ],
   "source": [
    "# Finds each outlier's information from the file and prints them\n",
    "with open(\"participants.csv\", 'r') as csv_file:\n",
    "    csv_reader = csv.reader(csv_file)\n",
    "    count = -1 # starting after the column names \n",
    "    for row in csv_reader:\n",
    "        if (count in indexList):\n",
    "            print(f'{row[0]} attended Week 1 for {row[1]} minutes.')\n",
    "        count += 1"
   ]
  },
  {
   "cell_type": "code",
   "execution_count": 9,
   "metadata": {},
   "outputs": [],
   "source": [
    "with open(\"participants.csv\", \"r\") as csv_file:\n",
    "    csv_reader = csv.DictReader(csv_file, delimiter=',')\n",
    "    numbers = []\n",
    "    for lines in csv_reader:\n",
    "      numbers.append(int(lines['Week 2']))"
   ]
  },
  {
   "cell_type": "code",
   "execution_count": 10,
   "metadata": {},
   "outputs": [],
   "source": [
    "sortedNumbers = sorted(numbers)\n",
    "midLen = len(sortedNumbers) // 2 # results as an integer division\n",
    "if (len(sortedNumbers) % 2 == 0):\n",
    "    # since the length is even, Q1 is calculated up to the mid length, excluding index[midLen] \n",
    "   lowerQ = median(sortedNumbers[:midLen])\n",
    "    # Q3 is calculated starting from index[mid] \n",
    "   upperQ = median(sortedNumbers[midLen:])\n",
    "else:\n",
    "    # when the length odd, Q1 is calculated same as even\n",
    "   lowerQ = median(sortedNumbers[:midLen]) \n",
    "    # since the length is odd, Q3 is calculated starting from index[midLen+1], not including the median of the list \n",
    "   upperQ = median(sortedNumbers[midLen+1:])"
   ]
  },
  {
   "cell_type": "code",
   "execution_count": 11,
   "metadata": {},
   "outputs": [],
   "source": [
    "interQR = upperQ - lowerQ\n",
    "lowerFence = lowerQ - (1.5 * interQR)\n",
    "upperFence = upperQ + (1.5 * interQR)"
   ]
  },
  {
   "cell_type": "code",
   "execution_count": 12,
   "metadata": {},
   "outputs": [
    {
     "name": "stdout",
     "output_type": "stream",
     "text": [
      "[7, 11, 12, 20, 27]\n",
      "[66, 74, 35, 143, 195]\n"
     ]
    }
   ],
   "source": [
    "# Finds all the outliers if any data value is smaller than the lower Fence or larger than the upperFence\n",
    "outliers = []\n",
    "indexList = []\n",
    "count = 0 # index of each row number\n",
    "for num in numbers:\n",
    "    if num > upperFence or num < lowerFence:  \n",
    "        indexList.append(count)\n",
    "        outliers.append(num)\n",
    "    count += 1\n",
    "print(indexList)\n",
    "print(outliers)"
   ]
  },
  {
   "cell_type": "code",
   "execution_count": 13,
   "metadata": {},
   "outputs": [
    {
     "name": "stdout",
     "output_type": "stream",
     "text": [
      "Trey Khan attended Week 2 for 66 minutes.\n",
      "Taya Curtis attended Week 2 for 74 minutes.\n",
      "Wallace Rojas attended Week 2 for 35 minutes.\n",
      "Stephanie Hail attended Week 2 for 143 minutes.\n",
      "Mikolaj Meyer attended Week 2 for 195 minutes.\n"
     ]
    }
   ],
   "source": [
    "# Finds each outlier's information from the file and prints them\n",
    "with open(\"participants.csv\", 'r') as csv_file:\n",
    "    csv_reader = csv.reader(csv_file)\n",
    "    count = -1 # starting after the column names \n",
    "    for row in csv_reader:\n",
    "        if (count in indexList):\n",
    "            print(f'{row[0]} attended Week 2 for {row[2]} minutes.')\n",
    "        count += 1"
   ]
  },
  {
   "cell_type": "code",
   "execution_count": 14,
   "metadata": {},
   "outputs": [],
   "source": [
    "with open(\"participants.csv\", \"r\") as csv_file:\n",
    "    csv_reader = csv.DictReader(csv_file, delimiter=',')\n",
    "    numbers = []\n",
    "    for lines in csv_reader:\n",
    "      numbers.append(int(lines['Week 3']))"
   ]
  },
  {
   "cell_type": "code",
   "execution_count": 15,
   "metadata": {},
   "outputs": [],
   "source": [
    "sortedNumbers = sorted(numbers)\n",
    "midLen = len(sortedNumbers) // 2 # results as an integer division\n",
    "if (len(sortedNumbers) % 2 == 0):\n",
    "    # since the length is even, Q1 is calculated up to the mid length, excluding index[midLen] \n",
    "   lowerQ = median(sortedNumbers[:midLen])\n",
    "    # Q3 is calculated starting from index[mid] \n",
    "   upperQ = median(sortedNumbers[midLen:])\n",
    "else:\n",
    "    # when the length odd, Q1 is calculated same as even\n",
    "   lowerQ = median(sortedNumbers[:midLen]) \n",
    "    # since the length is odd, Q3 is calculated starting from index[midLen+1], not including the median of the list \n",
    "   upperQ = median(sortedNumbers[midLen+1:])"
   ]
  },
  {
   "cell_type": "code",
   "execution_count": 16,
   "metadata": {},
   "outputs": [],
   "source": [
    "interQR = upperQ - lowerQ\n",
    "lowerFence = lowerQ - (1.5 * interQR)\n",
    "upperFence = upperQ + (1.5 * interQR)"
   ]
  },
  {
   "cell_type": "code",
   "execution_count": 17,
   "metadata": {},
   "outputs": [
    {
     "name": "stdout",
     "output_type": "stream",
     "text": [
      "[2, 14, 28]\n",
      "[51, 24, 9]\n"
     ]
    }
   ],
   "source": [
    "# Finds all the outliers if any data value is smaller than the lower Fence or larger than the upperFence\n",
    "outliers = []\n",
    "indexList = []\n",
    "count = 0 # index of each row number\n",
    "for num in numbers:\n",
    "    if num > upperFence or num < lowerFence:  \n",
    "        indexList.append(count)\n",
    "        outliers.append(num)\n",
    "    count += 1\n",
    "print(indexList)\n",
    "print(outliers)"
   ]
  },
  {
   "cell_type": "code",
   "execution_count": 18,
   "metadata": {},
   "outputs": [
    {
     "name": "stdout",
     "output_type": "stream",
     "text": [
      "Kaleb Cummings attended Week 3 for 51 minutes.\n",
      "Ameerah Fulton attended Week 3 for 24 minutes.\n",
      "Arman Mackie attended Week 3 for 9 minutes.\n"
     ]
    }
   ],
   "source": [
    "# Finds each outlier's information from the file and prints them\n",
    "with open(\"participants.csv\", 'r') as csv_file:\n",
    "    csv_reader = csv.reader(csv_file)\n",
    "    count = -1 # starting after the column names \n",
    "    for row in csv_reader:\n",
    "        if (count in indexList):\n",
    "            print(f'{row[0]} attended Week 3 for {row[3]} minutes.')\n",
    "        count += 1"
   ]
  },
  {
   "cell_type": "code",
   "execution_count": 19,
   "metadata": {},
   "outputs": [
    {
     "name": "stdout",
     "output_type": "stream",
     "text": [
      "Kaleb Cummings attended Week 3 for 51 minutes (below the bottom fence for Week 3).\n",
      "Trey Khan attended Week 1 for 110 minutes (below the bottom fence for Week 1).\n",
      "Taya Curtis attended Week 1 for 115 minutes (below the bottom fence for Week 1).\n",
      "Wallace Rojas attended Week 1 for 91 minutes (below the bottom fence for Week 1).\n",
      "Ameerah Fulton attended Week 3 for 24 minutes (below the bottom fence for Week 3).\n",
      "Stephanie Hail attended Week 2 for 143 minutes (below the bottom fence for Week 2).\n",
      "Arman Mackie attended Week 3 for 9 minutes (below the bottom fence for Week 3).\n"
     ]
    }
   ],
   "source": [
    "def outlierList(numbers):\n",
    "    sortedNumbers = sorted(numbers)\n",
    "    midLen = len(sortedNumbers) // 2 # results as an integer division\n",
    "    \n",
    "    if (len(sortedNumbers) % 2 == 0):\n",
    "        # since the length is even, Q1 is calculated up to the mid length, excluding index[midLen] \n",
    "       lowerQ = median(sortedNumbers[:midLen])\n",
    "        # Q3 is calculated starting from index[mid] \n",
    "       upperQ = median(sortedNumbers[midLen:])\n",
    "    else:\n",
    "        # when the length odd, Q1 is calculated same as even\n",
    "       lowerQ = median(sortedNumbers[:midLen]) \n",
    "        # since the length is odd, Q3 is calculated starting from index[midLen+1], not including the median of the list \n",
    "       upperQ = median(sortedNumbers[midLen+1:])\n",
    "    \n",
    "    interQR = upperQ - lowerQ\n",
    "    lowerFence = lowerQ - (1.5 * interQR)\n",
    "   \n",
    "    # Finds the data values that fall bellow the bottom fence \n",
    "    outliers = []\n",
    "    indexList = []\n",
    "    count = 0 # index of each row number\n",
    "    for num in numbers:\n",
    "        if num < lowerFence:   \n",
    "            indexList.append(count)\n",
    "        count += 1\n",
    "    return indexList\n",
    "\n",
    "\n",
    "def tardy():\n",
    "    with open(\"participants.csv\", \"r\") as csv_file:\n",
    "        csv_reader = csv.DictReader(csv_file, delimiter=',')\n",
    "        numbersWeek1 = []\n",
    "        numbersWeek2 = []\n",
    "        numbersWeek3 = []\n",
    "        for lines in csv_reader:\n",
    "            numbersWeek1.append(int(lines['Week 1']))\n",
    "            numbersWeek2.append(int(lines['Week 2']))\n",
    "            numbersWeek3.append(int(lines['Week 3']))\n",
    "            \n",
    "    indexList1 = outlierList(numbersWeek1)\n",
    "    indexList2 = outlierList(numbersWeek2)\n",
    "    indexList3 = outlierList(numbersWeek3)\n",
    "            \n",
    "     # Finds each outlier's information from the file and prints them\n",
    "    with open(\"participants.csv\", 'r') as csv_file:\n",
    "        csv_reader = csv.reader(csv_file)\n",
    "        countR = -1 # starting after the column names \n",
    "        for row in csv_reader:\n",
    "            if (countR in indexList1):\n",
    "                print(f'{row[0]} attended Week 1 for {row[1]} minutes (below the bottom fence for Week 1).')\n",
    "            elif (countR in indexList2):\n",
    "                print(f'{row[0]} attended Week 2 for {row[2]} minutes (below the bottom fence for Week 2).')\n",
    "            elif (countR in indexList3):\n",
    "                print(f'{row[0]} attended Week 3 for {row[3]} minutes (below the bottom fence for Week 3).')\n",
    "            countR += 1\n",
    "            \n",
    "\n",
    "tardy()"
   ]
  }
 ],
 "metadata": {
  "kernelspec": {
   "display_name": "Python 3",
   "language": "python",
   "name": "python3"
  },
  "language_info": {
   "codemirror_mode": {
    "name": "ipython",
    "version": 3
   },
   "file_extension": ".py",
   "mimetype": "text/x-python",
   "name": "python",
   "nbconvert_exporter": "python",
   "pygments_lexer": "ipython3",
   "version": "3.8.3"
  }
 },
 "nbformat": 4,
 "nbformat_minor": 4
}
