{
 "cells": [
  {
   "cell_type": "markdown",
   "metadata": {},
   "source": [
    "# CPSC 483-01 Project 2 Boston House Prices Due 3/11/2021\n",
    "   ## Student Name: Fulya Kocaman\n",
    "   ## Student ID: 803023878\n",
    "   \n",
    " ## Project 2 Description:\n",
    "\n",
    "In this project I used NumPy to implement vectorized linear and polynomial regression models and compare their performance using separate training and test sets of the Boston house-price data. In the training dataset we have 13 variables (from CRIM to LSTAT) and in the test dataset we have a variable called MEDV which is the median value of a home in $1000s. \n",
    "\n",
    "I implemented all of the required parts of this project and answered all of the experiment questions in the markdown cells of my code below. As a conclusion, I can say that my code seems to be working fine and predicting accurate results to the given experiment questions. "
   ]
  },
  {
   "cell_type": "code",
   "execution_count": 57,
   "metadata": {},
   "outputs": [],
   "source": [
    "import numpy as np\n",
    "import matplotlib.pyplot as plt"
   ]
  },
  {
   "cell_type": "markdown",
   "metadata": {},
   "source": [
    "## Experiment 1: \n",
    "Load the the dataset"
   ]
  },
  {
   "cell_type": "code",
   "execution_count": 58,
   "metadata": {},
   "outputs": [],
   "source": [
    "with np.load('boston.npz') as data:\n",
    "    features = data['features']\n",
    "    target = data['target']"
   ]
  },
  {
   "cell_type": "code",
   "execution_count": 59,
   "metadata": {},
   "outputs": [
    {
     "data": {
      "text/plain": [
       "6578"
      ]
     },
     "execution_count": 59,
     "metadata": {},
     "output_type": "execute_result"
    }
   ],
   "source": [
    "features.size"
   ]
  },
  {
   "cell_type": "code",
   "execution_count": 60,
   "metadata": {},
   "outputs": [
    {
     "data": {
      "text/plain": [
       "506"
      ]
     },
     "execution_count": 60,
     "metadata": {},
     "output_type": "execute_result"
    }
   ],
   "source": [
    "target.size"
   ]
  },
  {
   "cell_type": "code",
   "execution_count": 61,
   "metadata": {},
   "outputs": [
    {
     "data": {
      "text/plain": [
       "(506, 13)"
      ]
     },
     "execution_count": 61,
     "metadata": {},
     "output_type": "execute_result"
    }
   ],
   "source": [
    "features.shape"
   ]
  },
  {
   "cell_type": "code",
   "execution_count": 62,
   "metadata": {},
   "outputs": [
    {
     "data": {
      "text/plain": [
       "(506,)"
      ]
     },
     "execution_count": 62,
     "metadata": {},
     "output_type": "execute_result"
    }
   ],
   "source": [
    "target.shape"
   ]
  },
  {
   "cell_type": "markdown",
   "metadata": {},
   "source": [
    "## Experiment 2: \n",
    "Set aside the first 102 items (20% of the total) as a validation set, and the remaining 404 items for training."
   ]
  },
  {
   "cell_type": "code",
   "execution_count": 63,
   "metadata": {},
   "outputs": [],
   "source": [
    "validation = features[0:102]\n",
    "training = features[102:]"
   ]
  },
  {
   "cell_type": "code",
   "execution_count": 64,
   "metadata": {},
   "outputs": [
    {
     "data": {
      "text/plain": [
       "1326"
      ]
     },
     "execution_count": 64,
     "metadata": {},
     "output_type": "execute_result"
    }
   ],
   "source": [
    "validation.size"
   ]
  },
  {
   "cell_type": "code",
   "execution_count": 65,
   "metadata": {},
   "outputs": [
    {
     "data": {
      "text/plain": [
       "5252"
      ]
     },
     "execution_count": 65,
     "metadata": {},
     "output_type": "execute_result"
    }
   ],
   "source": [
    "training.size"
   ]
  },
  {
   "cell_type": "code",
   "execution_count": 66,
   "metadata": {},
   "outputs": [],
   "source": [
    "rooms = training[:,5]"
   ]
  },
  {
   "cell_type": "code",
   "execution_count": 67,
   "metadata": {},
   "outputs": [
    {
     "data": {
      "text/plain": [
       "array([5.96 , 6.678, 6.416, 5.412, 6.333, 5.965, 5.856, 6.951, 5.885,\n",
       "       5.782, 6.151, 6.816, 5.787, 5.593, 6.122, 5.019, 6.315, 5.012,\n",
       "       5.705, 5.905, 6.549, 7.041, 6.209, 8.398, 6.29 , 6.852, 8.704,\n",
       "       5.87 , 8.247, 5.731, 5.605, 7.249, 6.437, 6.593, 5.803, 6.458,\n",
       "       6.114, 7.333, 6.438, 5.706, 5.036, 5.836, 7.454, 5.92 , 6.009,\n",
       "       6.431, 5.608, 6.245, 6.317, 6.487, 5.404, 6.474, 5.927, 6.98 ,\n",
       "       5.682, 5.759, 6.393, 5.456, 6.421, 6.004, 6.319, 6.415, 7.185,\n",
       "       6.193, 3.863, 5.928, 6.556, 6.511, 6.172, 5.344, 6.229, 5.617,\n",
       "       5.961, 6.174, 6.417, 6.411, 5.747, 5.884, 6.431, 7.178, 6.341,\n",
       "       6.75 , 6.229, 8.266, 6.115, 5.304, 6.127, 6.195, 6.619, 6.348,\n",
       "       6.185, 6.38 , 4.138, 4.368, 6.167, 7.645, 6.897, 5.39 , 5.898,\n",
       "       5.454, 6.655, 5.272, 6.625, 6.242, 4.963, 5.986, 4.973, 6.004,\n",
       "       6.014, 5.976, 6.426, 8.069, 6.208, 5.572, 6.728, 7.691, 5.888,\n",
       "       6.169, 6.254, 6.335, 5.708, 6.297, 6.484, 6.009, 6.072, 6.345,\n",
       "       5.857, 5.879, 6.38 , 6.23 , 6.127, 6.649, 6.027, 5.628, 6.982,\n",
       "       5.39 , 6.145, 6.635, 7.061, 4.138, 5.427, 7.875, 5.926, 6.728,\n",
       "       6.31 , 5.869, 6.749, 6.127, 5.85 , 6.43 , 6.715, 6.142, 5.972,\n",
       "       6.854, 5.914, 5.875, 6.326, 6.185, 5.871, 8.725, 5.783, 6.167,\n",
       "       7.358, 6.065, 7.47 , 5.981, 4.652, 6.951, 7.163, 6.383, 7.203,\n",
       "       5.757, 5.186, 6.095, 5.889, 6.546, 5.957, 6.86 , 6.404, 6.51 ,\n",
       "       6.461, 6.101, 6.152, 5.362, 5.631, 5.807, 6.545, 6.112, 6.372,\n",
       "       5.818, 6.718, 5.859, 6.064, 6.879, 7.416, 6.434, 8.04 , 6.77 ,\n",
       "       6.13 , 6.762, 6.326, 5.683, 6.086, 7.088, 7.274, 5.854, 6.565,\n",
       "       5.936, 6.14 , 6.051, 5.093, 5.627, 6.152, 4.926, 6.513, 6.316,\n",
       "       5.602, 5.414, 6.023, 7.007, 6.211, 6.63 , 5.713, 5.637, 7.148,\n",
       "       6.059, 5.878, 6.167, 7.024, 6.579, 6.59 , 7.104, 6.968, 7.765,\n",
       "       6.456, 5.713, 5.985, 6.216, 5.565, 6.006, 5.875, 5.935, 5.998,\n",
       "       6.433, 6.874, 7.393, 6.122, 6.516, 6.03 , 5.99 , 5.701, 6.696,\n",
       "       5.896, 4.903, 7.147, 6.826, 6.417, 6.164, 5.707, 6.657, 5.983,\n",
       "       6.861, 6.495, 5.741, 7.929, 6.849, 6.563, 6.794, 6.003, 7.236,\n",
       "       5.872, 5.924, 7.412, 6.782, 6.113, 6.405, 6.021, 5.851, 6.162,\n",
       "       6.454, 7.686, 5.961, 6.405, 6.726, 6.108, 6.701, 4.519, 5.952,\n",
       "       6.015, 6.871, 6.482, 6.096, 5.709, 6.069, 5.966, 6.153, 6.842,\n",
       "       6.103, 6.129, 6.081, 5.88 , 7.267, 6.209, 6.8  , 6.495, 6.453,\n",
       "       6.758, 5.277, 6.03 , 6.635, 6.63 , 5.67 , 8.375, 6.219, 5.56 ,\n",
       "       6.402, 6.25 , 5.813, 5.913, 5.604, 5.794, 5.349, 7.853, 6.481,\n",
       "       6.229, 5.762, 6.312, 6.144, 6.794, 6.781, 6.031, 5.727, 5.949,\n",
       "       7.802, 6.144, 6.232, 7.135, 7.52 , 6.629, 6.567, 6.425, 6.727,\n",
       "       5.   , 7.489, 6.739, 6.202, 5.926, 7.42 , 6.606, 5.837, 4.97 ,\n",
       "       4.88 , 6.618, 5.874, 6.406, 6.824, 6.552, 5.822, 5.468, 5.569,\n",
       "       6.575, 6.49 , 5.841, 6.395, 7.313, 6.375, 6.674, 6.975, 5.57 ,\n",
       "       5.854, 5.95 , 5.155, 6.092, 6.957, 5.951, 8.337, 5.987, 7.079,\n",
       "       6.538, 6.266, 5.693, 6.642, 6.683, 7.107, 6.02 , 6.968, 6.083,\n",
       "       7.155, 6.279, 5.663, 6.373, 6.436, 6.226, 8.259, 6.066, 5.856,\n",
       "       6.24 , 6.98 , 5.877, 4.628, 5.936, 5.786, 6.012, 6.54 ])"
      ]
     },
     "execution_count": 67,
     "metadata": {},
     "output_type": "execute_result"
    }
   ],
   "source": [
    "rooms"
   ]
  },
  {
   "cell_type": "code",
   "execution_count": 68,
   "metadata": {},
   "outputs": [],
   "source": [
    "trainingTest = target[102:]"
   ]
  },
  {
   "cell_type": "code",
   "execution_count": 69,
   "metadata": {},
   "outputs": [
    {
     "data": {
      "text/plain": [
       "404"
      ]
     },
     "execution_count": 69,
     "metadata": {},
     "output_type": "execute_result"
    }
   ],
   "source": [
    "trainingTest.size"
   ]
  },
  {
   "cell_type": "markdown",
   "metadata": {},
   "source": [
    "## Experiment 3: \n",
    "Create a scatterplot of the training data showing the relationship between the number of rooms and the median value of a home. "
   ]
  },
  {
   "cell_type": "code",
   "execution_count": 70,
   "metadata": {},
   "outputs": [
    {
     "data": {
      "text/plain": [
       "Text(0.5, 1.0, 'MEDV vs RM')"
      ]
     },
     "execution_count": 70,
     "metadata": {},
     "output_type": "execute_result"
    },
    {
     "data": {
      "image/png": "[encoded data removed]",
      "text/plain": [
       "<Figure size 432x288 with 1 Axes>"
      ]
     },
     "metadata": {
      "needs_background": "light"
     },
     "output_type": "display_data"
    }
   ],
   "source": [
    "plt.scatter(rooms, trainingTest)\n",
    "plt.xlabel('RM = the number of rooms')\n",
    "plt.ylabel('MEDV = the median value of a home' )\n",
    "plt.title('MEDV vs RM')"
   ]
  },
  {
   "cell_type": "markdown",
   "metadata": {},
   "source": [
    "## The result of Experiment 3: \n",
    "The relationship between the number of rooms and the median value of a home appear to be linear."
   ]
  },
  {
   "cell_type": "markdown",
   "metadata": {},
   "source": [
    "## Experiment 4: \n",
    "With RM as X and MEDV as t, compute w for the training set. "
   ]
  },
  {
   "cell_type": "code",
   "execution_count": 116,
   "metadata": {},
   "outputs": [
    {
     "data": {
      "text/plain": [
       "array([[5.96 ],\n",
       "       [6.678],\n",
       "       [6.416],\n",
       "       [5.412],\n",
       "       [6.333],\n",
       "       [5.965],\n",
       "       [5.856],\n",
       "       [6.951],\n",
       "       [5.885],\n",
       "       [5.782],\n",
       "       [6.151],\n",
       "       [6.816],\n",
       "       [5.787],\n",
       "       [5.593],\n",
       "       [6.122],\n",
       "       [5.019],\n",
       "       [6.315],\n",
       "       [5.012],\n",
       "       [5.705],\n",
       "       [5.905],\n",
       "       [6.549],\n",
       "       [7.041],\n",
       "       [6.209],\n",
       "       [8.398],\n",
       "       [6.29 ],\n",
       "       [6.852],\n",
       "       [8.704],\n",
       "       [5.87 ],\n",
       "       [8.247],\n",
       "       [5.731],\n",
       "       [5.605],\n",
       "       [7.249],\n",
       "       [6.437],\n",
       "       [6.593],\n",
       "       [5.803],\n",
       "       [6.458],\n",
       "       [6.114],\n",
       "       [7.333],\n",
       "       [6.438],\n",
       "       [5.706],\n",
       "       [5.036],\n",
       "       [5.836],\n",
       "       [7.454],\n",
       "       [5.92 ],\n",
       "       [6.009],\n",
       "       [6.431],\n",
       "       [5.608],\n",
       "       [6.245],\n",
       "       [6.317],\n",
       "       [6.487],\n",
       "       [5.404],\n",
       "       [6.474],\n",
       "       [5.927],\n",
       "       [6.98 ],\n",
       "       [5.682],\n",
       "       [5.759],\n",
       "       [6.393],\n",
       "       [5.456],\n",
       "       [6.421],\n",
       "       [6.004],\n",
       "       [6.319],\n",
       "       [6.415],\n",
       "       [7.185],\n",
       "       [6.193],\n",
       "       [3.863],\n",
       "       [5.928],\n",
       "       [6.556],\n",
       "       [6.511],\n",
       "       [6.172],\n",
       "       [5.344],\n",
       "       [6.229],\n",
       "       [5.617],\n",
       "       [5.961],\n",
       "       [6.174],\n",
       "       [6.417],\n",
       "       [6.411],\n",
       "       [5.747],\n",
       "       [5.884],\n",
       "       [6.431],\n",
       "       [7.178],\n",
       "       [6.341],\n",
       "       [6.75 ],\n",
       "       [6.229],\n",
       "       [8.266],\n",
       "       [6.115],\n",
       "       [5.304],\n",
       "       [6.127],\n",
       "       [6.195],\n",
       "       [6.619],\n",
       "       [6.348],\n",
       "       [6.185],\n",
       "       [6.38 ],\n",
       "       [4.138],\n",
       "       [4.368],\n",
       "       [6.167],\n",
       "       [7.645],\n",
       "       [6.897],\n",
       "       [5.39 ],\n",
       "       [5.898],\n",
       "       [5.454],\n",
       "       [6.655],\n",
       "       [5.272],\n",
       "       [6.625],\n",
       "       [6.242],\n",
       "       [4.963],\n",
       "       [5.986],\n",
       "       [4.973],\n",
       "       [6.004],\n",
       "       [6.014],\n",
       "       [5.976],\n",
       "       [6.426],\n",
       "       [8.069],\n",
       "       [6.208],\n",
       "       [5.572],\n",
       "       [6.728],\n",
       "       [7.691],\n",
       "       [5.888],\n",
       "       [6.169],\n",
       "       [6.254],\n",
       "       [6.335],\n",
       "       [5.708],\n",
       "       [6.297],\n",
       "       [6.484],\n",
       "       [6.009],\n",
       "       [6.072],\n",
       "       [6.345],\n",
       "       [5.857],\n",
       "       [5.879],\n",
       "       [6.38 ],\n",
       "       [6.23 ],\n",
       "       [6.127],\n",
       "       [6.649],\n",
       "       [6.027],\n",
       "       [5.628],\n",
       "       [6.982],\n",
       "       [5.39 ],\n",
       "       [6.145],\n",
       "       [6.635],\n",
       "       [7.061],\n",
       "       [4.138],\n",
       "       [5.427],\n",
       "       [7.875],\n",
       "       [5.926],\n",
       "       [6.728],\n",
       "       [6.31 ],\n",
       "       [5.869],\n",
       "       [6.749],\n",
       "       [6.127],\n",
       "       [5.85 ],\n",
       "       [6.43 ],\n",
       "       [6.715],\n",
       "       [6.142],\n",
       "       [5.972],\n",
       "       [6.854],\n",
       "       [5.914],\n",
       "       [5.875],\n",
       "       [6.326],\n",
       "       [6.185],\n",
       "       [5.871],\n",
       "       [8.725],\n",
       "       [5.783],\n",
       "       [6.167],\n",
       "       [7.358],\n",
       "       [6.065],\n",
       "       [7.47 ],\n",
       "       [5.981],\n",
       "       [4.652],\n",
       "       [6.951],\n",
       "       [7.163],\n",
       "       [6.383],\n",
       "       [7.203],\n",
       "       [5.757],\n",
       "       [5.186],\n",
       "       [6.095],\n",
       "       [5.889],\n",
       "       [6.546],\n",
       "       [5.957],\n",
       "       [6.86 ],\n",
       "       [6.404],\n",
       "       [6.51 ],\n",
       "       [6.461],\n",
       "       [6.101],\n",
       "       [6.152],\n",
       "       [5.362],\n",
       "       [5.631],\n",
       "       [5.807],\n",
       "       [6.545],\n",
       "       [6.112],\n",
       "       [6.372],\n",
       "       [5.818],\n",
       "       [6.718],\n",
       "       [5.859],\n",
       "       [6.064],\n",
       "       [6.879],\n",
       "       [7.416],\n",
       "       [6.434],\n",
       "       [8.04 ],\n",
       "       [6.77 ],\n",
       "       [6.13 ],\n",
       "       [6.762],\n",
       "       [6.326],\n",
       "       [5.683],\n",
       "       [6.086],\n",
       "       [7.088],\n",
       "       [7.274],\n",
       "       [5.854],\n",
       "       [6.565],\n",
       "       [5.936],\n",
       "       [6.14 ],\n",
       "       [6.051],\n",
       "       [5.093],\n",
       "       [5.627],\n",
       "       [6.152],\n",
       "       [4.926],\n",
       "       [6.513],\n",
       "       [6.316],\n",
       "       [5.602],\n",
       "       [5.414],\n",
       "       [6.023],\n",
       "       [7.007],\n",
       "       [6.211],\n",
       "       [6.63 ],\n",
       "       [5.713],\n",
       "       [5.637],\n",
       "       [7.148],\n",
       "       [6.059],\n",
       "       [5.878],\n",
       "       [6.167],\n",
       "       [7.024],\n",
       "       [6.579],\n",
       "       [6.59 ],\n",
       "       [7.104],\n",
       "       [6.968],\n",
       "       [7.765],\n",
       "       [6.456],\n",
       "       [5.713],\n",
       "       [5.985],\n",
       "       [6.216],\n",
       "       [5.565],\n",
       "       [6.006],\n",
       "       [5.875],\n",
       "       [5.935],\n",
       "       [5.998],\n",
       "       [6.433],\n",
       "       [6.874],\n",
       "       [7.393],\n",
       "       [6.122],\n",
       "       [6.516],\n",
       "       [6.03 ],\n",
       "       [5.99 ],\n",
       "       [5.701],\n",
       "       [6.696],\n",
       "       [5.896],\n",
       "       [4.903],\n",
       "       [7.147],\n",
       "       [6.826],\n",
       "       [6.417],\n",
       "       [6.164],\n",
       "       [5.707],\n",
       "       [6.657],\n",
       "       [5.983],\n",
       "       [6.861],\n",
       "       [6.495],\n",
       "       [5.741],\n",
       "       [7.929],\n",
       "       [6.849],\n",
       "       [6.563],\n",
       "       [6.794],\n",
       "       [6.003],\n",
       "       [7.236],\n",
       "       [5.872],\n",
       "       [5.924],\n",
       "       [7.412],\n",
       "       [6.782],\n",
       "       [6.113],\n",
       "       [6.405],\n",
       "       [6.021],\n",
       "       [5.851],\n",
       "       [6.162],\n",
       "       [6.454],\n",
       "       [7.686],\n",
       "       [5.961],\n",
       "       [6.405],\n",
       "       [6.726],\n",
       "       [6.108],\n",
       "       [6.701],\n",
       "       [4.519],\n",
       "       [5.952],\n",
       "       [6.015],\n",
       "       [6.871],\n",
       "       [6.482],\n",
       "       [6.096],\n",
       "       [5.709],\n",
       "       [6.069],\n",
       "       [5.966],\n",
       "       [6.153],\n",
       "       [6.842],\n",
       "       [6.103],\n",
       "       [6.129],\n",
       "       [6.081],\n",
       "       [5.88 ],\n",
       "       [7.267],\n",
       "       [6.209],\n",
       "       [6.8  ],\n",
       "       [6.495],\n",
       "       [6.453],\n",
       "       [6.758],\n",
       "       [5.277],\n",
       "       [6.03 ],\n",
       "       [6.635],\n",
       "       [6.63 ],\n",
       "       [5.67 ],\n",
       "       [8.375],\n",
       "       [6.219],\n",
       "       [5.56 ],\n",
       "       [6.402],\n",
       "       [6.25 ],\n",
       "       [5.813],\n",
       "       [5.913],\n",
       "       [5.604],\n",
       "       [5.794],\n",
       "       [5.349],\n",
       "       [7.853],\n",
       "       [6.481],\n",
       "       [6.229],\n",
       "       [5.762],\n",
       "       [6.312],\n",
       "       [6.144],\n",
       "       [6.794],\n",
       "       [6.781],\n",
       "       [6.031],\n",
       "       [5.727],\n",
       "       [5.949],\n",
       "       [7.802],\n",
       "       [6.144],\n",
       "       [6.232],\n",
       "       [7.135],\n",
       "       [7.52 ],\n",
       "       [6.629],\n",
       "       [6.567],\n",
       "       [6.425],\n",
       "       [6.727],\n",
       "       [5.   ],\n",
       "       [7.489],\n",
       "       [6.739],\n",
       "       [6.202],\n",
       "       [5.926],\n",
       "       [7.42 ],\n",
       "       [6.606],\n",
       "       [5.837],\n",
       "       [4.97 ],\n",
       "       [4.88 ],\n",
       "       [6.618],\n",
       "       [5.874],\n",
       "       [6.406],\n",
       "       [6.824],\n",
       "       [6.552],\n",
       "       [5.822],\n",
       "       [5.468],\n",
       "       [5.569],\n",
       "       [6.575],\n",
       "       [6.49 ],\n",
       "       [5.841],\n",
       "       [6.395],\n",
       "       [7.313],\n",
       "       [6.375],\n",
       "       [6.674],\n",
       "       [6.975],\n",
       "       [5.57 ],\n",
       "       [5.854],\n",
       "       [5.95 ],\n",
       "       [5.155],\n",
       "       [6.092],\n",
       "       [6.957],\n",
       "       [5.951],\n",
       "       [8.337],\n",
       "       [5.987],\n",
       "       [7.079],\n",
       "       [6.538],\n",
       "       [6.266],\n",
       "       [5.693],\n",
       "       [6.642],\n",
       "       [6.683],\n",
       "       [7.107],\n",
       "       [6.02 ],\n",
       "       [6.968],\n",
       "       [6.083],\n",
       "       [7.155],\n",
       "       [6.279],\n",
       "       [5.663],\n",
       "       [6.373],\n",
       "       [6.436],\n",
       "       [6.226],\n",
       "       [8.259],\n",
       "       [6.066],\n",
       "       [5.856],\n",
       "       [6.24 ],\n",
       "       [6.98 ],\n",
       "       [5.877],\n",
       "       [4.628],\n",
       "       [5.936],\n",
       "       [5.786],\n",
       "       [6.012],\n",
       "       [6.54 ]])"
      ]
     },
     "execution_count": 116,
     "metadata": {},
     "output_type": "execute_result"
    }
   ],
   "source": [
    "x = training[:,5][:,None] # turns rooms into a vector\n",
    "x"
   ]
  },
  {
   "cell_type": "code",
   "execution_count": 117,
   "metadata": {},
   "outputs": [
    {
     "data": {
      "text/plain": [
       "array([[1.   , 5.96 ],\n",
       "       [1.   , 6.678],\n",
       "       [1.   , 6.416],\n",
       "       [1.   , 5.412],\n",
       "       [1.   , 6.333],\n",
       "       [1.   , 5.965],\n",
       "       [1.   , 5.856],\n",
       "       [1.   , 6.951],\n",
       "       [1.   , 5.885],\n",
       "       [1.   , 5.782],\n",
       "       [1.   , 6.151],\n",
       "       [1.   , 6.816],\n",
       "       [1.   , 5.787],\n",
       "       [1.   , 5.593],\n",
       "       [1.   , 6.122],\n",
       "       [1.   , 5.019],\n",
       "       [1.   , 6.315],\n",
       "       [1.   , 5.012],\n",
       "       [1.   , 5.705],\n",
       "       [1.   , 5.905],\n",
       "       [1.   , 6.549],\n",
       "       [1.   , 7.041],\n",
       "       [1.   , 6.209],\n",
       "       [1.   , 8.398],\n",
       "       [1.   , 6.29 ],\n",
       "       [1.   , 6.852],\n",
       "       [1.   , 8.704],\n",
       "       [1.   , 5.87 ],\n",
       "       [1.   , 8.247],\n",
       "       [1.   , 5.731],\n",
       "       [1.   , 5.605],\n",
       "       [1.   , 7.249],\n",
       "       [1.   , 6.437],\n",
       "       [1.   , 6.593],\n",
       "       [1.   , 5.803],\n",
       "       [1.   , 6.458],\n",
       "       [1.   , 6.114],\n",
       "       [1.   , 7.333],\n",
       "       [1.   , 6.438],\n",
       "       [1.   , 5.706],\n",
       "       [1.   , 5.036],\n",
       "       [1.   , 5.836],\n",
       "       [1.   , 7.454],\n",
       "       [1.   , 5.92 ],\n",
       "       [1.   , 6.009],\n",
       "       [1.   , 6.431],\n",
       "       [1.   , 5.608],\n",
       "       [1.   , 6.245],\n",
       "       [1.   , 6.317],\n",
       "       [1.   , 6.487],\n",
       "       [1.   , 5.404],\n",
       "       [1.   , 6.474],\n",
       "       [1.   , 5.927],\n",
       "       [1.   , 6.98 ],\n",
       "       [1.   , 5.682],\n",
       "       [1.   , 5.759],\n",
       "       [1.   , 6.393],\n",
       "       [1.   , 5.456],\n",
       "       [1.   , 6.421],\n",
       "       [1.   , 6.004],\n",
       "       [1.   , 6.319],\n",
       "       [1.   , 6.415],\n",
       "       [1.   , 7.185],\n",
       "       [1.   , 6.193],\n",
       "       [1.   , 3.863],\n",
       "       [1.   , 5.928],\n",
       "       [1.   , 6.556],\n",
       "       [1.   , 6.511],\n",
       "       [1.   , 6.172],\n",
       "       [1.   , 5.344],\n",
       "       [1.   , 6.229],\n",
       "       [1.   , 5.617],\n",
       "       [1.   , 5.961],\n",
       "       [1.   , 6.174],\n",
       "       [1.   , 6.417],\n",
       "       [1.   , 6.411],\n",
       "       [1.   , 5.747],\n",
       "       [1.   , 5.884],\n",
       "       [1.   , 6.431],\n",
       "       [1.   , 7.178],\n",
       "       [1.   , 6.341],\n",
       "       [1.   , 6.75 ],\n",
       "       [1.   , 6.229],\n",
       "       [1.   , 8.266],\n",
       "       [1.   , 6.115],\n",
       "       [1.   , 5.304],\n",
       "       [1.   , 6.127],\n",
       "       [1.   , 6.195],\n",
       "       [1.   , 6.619],\n",
       "       [1.   , 6.348],\n",
       "       [1.   , 6.185],\n",
       "       [1.   , 6.38 ],\n",
       "       [1.   , 4.138],\n",
       "       [1.   , 4.368],\n",
       "       [1.   , 6.167],\n",
       "       [1.   , 7.645],\n",
       "       [1.   , 6.897],\n",
       "       [1.   , 5.39 ],\n",
       "       [1.   , 5.898],\n",
       "       [1.   , 5.454],\n",
       "       [1.   , 6.655],\n",
       "       [1.   , 5.272],\n",
       "       [1.   , 6.625],\n",
       "       [1.   , 6.242],\n",
       "       [1.   , 4.963],\n",
       "       [1.   , 5.986],\n",
       "       [1.   , 4.973],\n",
       "       [1.   , 6.004],\n",
       "       [1.   , 6.014],\n",
       "       [1.   , 5.976],\n",
       "       [1.   , 6.426],\n",
       "       [1.   , 8.069],\n",
       "       [1.   , 6.208],\n",
       "       [1.   , 5.572],\n",
       "       [1.   , 6.728],\n",
       "       [1.   , 7.691],\n",
       "       [1.   , 5.888],\n",
       "       [1.   , 6.169],\n",
       "       [1.   , 6.254],\n",
       "       [1.   , 6.335],\n",
       "       [1.   , 5.708],\n",
       "       [1.   , 6.297],\n",
       "       [1.   , 6.484],\n",
       "       [1.   , 6.009],\n",
       "       [1.   , 6.072],\n",
       "       [1.   , 6.345],\n",
       "       [1.   , 5.857],\n",
       "       [1.   , 5.879],\n",
       "       [1.   , 6.38 ],\n",
       "       [1.   , 6.23 ],\n",
       "       [1.   , 6.127],\n",
       "       [1.   , 6.649],\n",
       "       [1.   , 6.027],\n",
       "       [1.   , 5.628],\n",
       "       [1.   , 6.982],\n",
       "       [1.   , 5.39 ],\n",
       "       [1.   , 6.145],\n",
       "       [1.   , 6.635],\n",
       "       [1.   , 7.061],\n",
       "       [1.   , 4.138],\n",
       "       [1.   , 5.427],\n",
       "       [1.   , 7.875],\n",
       "       [1.   , 5.926],\n",
       "       [1.   , 6.728],\n",
       "       [1.   , 6.31 ],\n",
       "       [1.   , 5.869],\n",
       "       [1.   , 6.749],\n",
       "       [1.   , 6.127],\n",
       "       [1.   , 5.85 ],\n",
       "       [1.   , 6.43 ],\n",
       "       [1.   , 6.715],\n",
       "       [1.   , 6.142],\n",
       "       [1.   , 5.972],\n",
       "       [1.   , 6.854],\n",
       "       [1.   , 5.914],\n",
       "       [1.   , 5.875],\n",
       "       [1.   , 6.326],\n",
       "       [1.   , 6.185],\n",
       "       [1.   , 5.871],\n",
       "       [1.   , 8.725],\n",
       "       [1.   , 5.783],\n",
       "       [1.   , 6.167],\n",
       "       [1.   , 7.358],\n",
       "       [1.   , 6.065],\n",
       "       [1.   , 7.47 ],\n",
       "       [1.   , 5.981],\n",
       "       [1.   , 4.652],\n",
       "       [1.   , 6.951],\n",
       "       [1.   , 7.163],\n",
       "       [1.   , 6.383],\n",
       "       [1.   , 7.203],\n",
       "       [1.   , 5.757],\n",
       "       [1.   , 5.186],\n",
       "       [1.   , 6.095],\n",
       "       [1.   , 5.889],\n",
       "       [1.   , 6.546],\n",
       "       [1.   , 5.957],\n",
       "       [1.   , 6.86 ],\n",
       "       [1.   , 6.404],\n",
       "       [1.   , 6.51 ],\n",
       "       [1.   , 6.461],\n",
       "       [1.   , 6.101],\n",
       "       [1.   , 6.152],\n",
       "       [1.   , 5.362],\n",
       "       [1.   , 5.631],\n",
       "       [1.   , 5.807],\n",
       "       [1.   , 6.545],\n",
       "       [1.   , 6.112],\n",
       "       [1.   , 6.372],\n",
       "       [1.   , 5.818],\n",
       "       [1.   , 6.718],\n",
       "       [1.   , 5.859],\n",
       "       [1.   , 6.064],\n",
       "       [1.   , 6.879],\n",
       "       [1.   , 7.416],\n",
       "       [1.   , 6.434],\n",
       "       [1.   , 8.04 ],\n",
       "       [1.   , 6.77 ],\n",
       "       [1.   , 6.13 ],\n",
       "       [1.   , 6.762],\n",
       "       [1.   , 6.326],\n",
       "       [1.   , 5.683],\n",
       "       [1.   , 6.086],\n",
       "       [1.   , 7.088],\n",
       "       [1.   , 7.274],\n",
       "       [1.   , 5.854],\n",
       "       [1.   , 6.565],\n",
       "       [1.   , 5.936],\n",
       "       [1.   , 6.14 ],\n",
       "       [1.   , 6.051],\n",
       "       [1.   , 5.093],\n",
       "       [1.   , 5.627],\n",
       "       [1.   , 6.152],\n",
       "       [1.   , 4.926],\n",
       "       [1.   , 6.513],\n",
       "       [1.   , 6.316],\n",
       "       [1.   , 5.602],\n",
       "       [1.   , 5.414],\n",
       "       [1.   , 6.023],\n",
       "       [1.   , 7.007],\n",
       "       [1.   , 6.211],\n",
       "       [1.   , 6.63 ],\n",
       "       [1.   , 5.713],\n",
       "       [1.   , 5.637],\n",
       "       [1.   , 7.148],\n",
       "       [1.   , 6.059],\n",
       "       [1.   , 5.878],\n",
       "       [1.   , 6.167],\n",
       "       [1.   , 7.024],\n",
       "       [1.   , 6.579],\n",
       "       [1.   , 6.59 ],\n",
       "       [1.   , 7.104],\n",
       "       [1.   , 6.968],\n",
       "       [1.   , 7.765],\n",
       "       [1.   , 6.456],\n",
       "       [1.   , 5.713],\n",
       "       [1.   , 5.985],\n",
       "       [1.   , 6.216],\n",
       "       [1.   , 5.565],\n",
       "       [1.   , 6.006],\n",
       "       [1.   , 5.875],\n",
       "       [1.   , 5.935],\n",
       "       [1.   , 5.998],\n",
       "       [1.   , 6.433],\n",
       "       [1.   , 6.874],\n",
       "       [1.   , 7.393],\n",
       "       [1.   , 6.122],\n",
       "       [1.   , 6.516],\n",
       "       [1.   , 6.03 ],\n",
       "       [1.   , 5.99 ],\n",
       "       [1.   , 5.701],\n",
       "       [1.   , 6.696],\n",
       "       [1.   , 5.896],\n",
       "       [1.   , 4.903],\n",
       "       [1.   , 7.147],\n",
       "       [1.   , 6.826],\n",
       "       [1.   , 6.417],\n",
       "       [1.   , 6.164],\n",
       "       [1.   , 5.707],\n",
       "       [1.   , 6.657],\n",
       "       [1.   , 5.983],\n",
       "       [1.   , 6.861],\n",
       "       [1.   , 6.495],\n",
       "       [1.   , 5.741],\n",
       "       [1.   , 7.929],\n",
       "       [1.   , 6.849],\n",
       "       [1.   , 6.563],\n",
       "       [1.   , 6.794],\n",
       "       [1.   , 6.003],\n",
       "       [1.   , 7.236],\n",
       "       [1.   , 5.872],\n",
       "       [1.   , 5.924],\n",
       "       [1.   , 7.412],\n",
       "       [1.   , 6.782],\n",
       "       [1.   , 6.113],\n",
       "       [1.   , 6.405],\n",
       "       [1.   , 6.021],\n",
       "       [1.   , 5.851],\n",
       "       [1.   , 6.162],\n",
       "       [1.   , 6.454],\n",
       "       [1.   , 7.686],\n",
       "       [1.   , 5.961],\n",
       "       [1.   , 6.405],\n",
       "       [1.   , 6.726],\n",
       "       [1.   , 6.108],\n",
       "       [1.   , 6.701],\n",
       "       [1.   , 4.519],\n",
       "       [1.   , 5.952],\n",
       "       [1.   , 6.015],\n",
       "       [1.   , 6.871],\n",
       "       [1.   , 6.482],\n",
       "       [1.   , 6.096],\n",
       "       [1.   , 5.709],\n",
       "       [1.   , 6.069],\n",
       "       [1.   , 5.966],\n",
       "       [1.   , 6.153],\n",
       "       [1.   , 6.842],\n",
       "       [1.   , 6.103],\n",
       "       [1.   , 6.129],\n",
       "       [1.   , 6.081],\n",
       "       [1.   , 5.88 ],\n",
       "       [1.   , 7.267],\n",
       "       [1.   , 6.209],\n",
       "       [1.   , 6.8  ],\n",
       "       [1.   , 6.495],\n",
       "       [1.   , 6.453],\n",
       "       [1.   , 6.758],\n",
       "       [1.   , 5.277],\n",
       "       [1.   , 6.03 ],\n",
       "       [1.   , 6.635],\n",
       "       [1.   , 6.63 ],\n",
       "       [1.   , 5.67 ],\n",
       "       [1.   , 8.375],\n",
       "       [1.   , 6.219],\n",
       "       [1.   , 5.56 ],\n",
       "       [1.   , 6.402],\n",
       "       [1.   , 6.25 ],\n",
       "       [1.   , 5.813],\n",
       "       [1.   , 5.913],\n",
       "       [1.   , 5.604],\n",
       "       [1.   , 5.794],\n",
       "       [1.   , 5.349],\n",
       "       [1.   , 7.853],\n",
       "       [1.   , 6.481],\n",
       "       [1.   , 6.229],\n",
       "       [1.   , 5.762],\n",
       "       [1.   , 6.312],\n",
       "       [1.   , 6.144],\n",
       "       [1.   , 6.794],\n",
       "       [1.   , 6.781],\n",
       "       [1.   , 6.031],\n",
       "       [1.   , 5.727],\n",
       "       [1.   , 5.949],\n",
       "       [1.   , 7.802],\n",
       "       [1.   , 6.144],\n",
       "       [1.   , 6.232],\n",
       "       [1.   , 7.135],\n",
       "       [1.   , 7.52 ],\n",
       "       [1.   , 6.629],\n",
       "       [1.   , 6.567],\n",
       "       [1.   , 6.425],\n",
       "       [1.   , 6.727],\n",
       "       [1.   , 5.   ],\n",
       "       [1.   , 7.489],\n",
       "       [1.   , 6.739],\n",
       "       [1.   , 6.202],\n",
       "       [1.   , 5.926],\n",
       "       [1.   , 7.42 ],\n",
       "       [1.   , 6.606],\n",
       "       [1.   , 5.837],\n",
       "       [1.   , 4.97 ],\n",
       "       [1.   , 4.88 ],\n",
       "       [1.   , 6.618],\n",
       "       [1.   , 5.874],\n",
       "       [1.   , 6.406],\n",
       "       [1.   , 6.824],\n",
       "       [1.   , 6.552],\n",
       "       [1.   , 5.822],\n",
       "       [1.   , 5.468],\n",
       "       [1.   , 5.569],\n",
       "       [1.   , 6.575],\n",
       "       [1.   , 6.49 ],\n",
       "       [1.   , 5.841],\n",
       "       [1.   , 6.395],\n",
       "       [1.   , 7.313],\n",
       "       [1.   , 6.375],\n",
       "       [1.   , 6.674],\n",
       "       [1.   , 6.975],\n",
       "       [1.   , 5.57 ],\n",
       "       [1.   , 5.854],\n",
       "       [1.   , 5.95 ],\n",
       "       [1.   , 5.155],\n",
       "       [1.   , 6.092],\n",
       "       [1.   , 6.957],\n",
       "       [1.   , 5.951],\n",
       "       [1.   , 8.337],\n",
       "       [1.   , 5.987],\n",
       "       [1.   , 7.079],\n",
       "       [1.   , 6.538],\n",
       "       [1.   , 6.266],\n",
       "       [1.   , 5.693],\n",
       "       [1.   , 6.642],\n",
       "       [1.   , 6.683],\n",
       "       [1.   , 7.107],\n",
       "       [1.   , 6.02 ],\n",
       "       [1.   , 6.968],\n",
       "       [1.   , 6.083],\n",
       "       [1.   , 7.155],\n",
       "       [1.   , 6.279],\n",
       "       [1.   , 5.663],\n",
       "       [1.   , 6.373],\n",
       "       [1.   , 6.436],\n",
       "       [1.   , 6.226],\n",
       "       [1.   , 8.259],\n",
       "       [1.   , 6.066],\n",
       "       [1.   , 5.856],\n",
       "       [1.   , 6.24 ],\n",
       "       [1.   , 6.98 ],\n",
       "       [1.   , 5.877],\n",
       "       [1.   , 4.628],\n",
       "       [1.   , 5.936],\n",
       "       [1.   , 5.786],\n",
       "       [1.   , 6.012],\n",
       "       [1.   , 6.54 ]])"
      ]
     },
     "execution_count": 117,
     "metadata": {},
     "output_type": "execute_result"
    }
   ],
   "source": [
    "X = np.hstack((np.ones_like(x),x)) # turns rooms into a matrix by augmenting each value with a 1\n",
    "X"
   ]
  },
  {
   "cell_type": "code",
   "execution_count": 110,
   "metadata": {},
   "outputs": [
    {
     "data": {
      "text/plain": [
       "404"
      ]
     },
     "execution_count": 110,
     "metadata": {},
     "output_type": "execute_result"
    }
   ],
   "source": [
    "t = target[102:] # turns target into a vector\n",
    "t.size"
   ]
  },
  {
   "cell_type": "code",
   "execution_count": 111,
   "metadata": {},
   "outputs": [],
   "source": [
    "XX = np.dot(X.T,X)"
   ]
  },
  {
   "cell_type": "code",
   "execution_count": 112,
   "metadata": {},
   "outputs": [],
   "source": [
    "invXX = np.linalg.inv(XX)"
   ]
  },
  {
   "cell_type": "code",
   "execution_count": 113,
   "metadata": {},
   "outputs": [],
   "source": [
    "Xt = np.dot(X.T,t)\n",
    "w = np.dot(invXX,Xt)"
   ]
  },
  {
   "cell_type": "code",
   "execution_count": 114,
   "metadata": {},
   "outputs": [
    {
     "name": "stdout",
     "output_type": "stream",
     "text": [
      "[-34.12731481   9.03591206]\n"
     ]
    }
   ],
   "source": [
    "print(w)"
   ]
  },
  {
   "cell_type": "markdown",
   "metadata": {},
   "source": [
    "## The result of Experiment 4: \n",
    "The equation for MEDV as a linear function of RM: f(x;w0,w1) = -34.127 + 9.036x"
   ]
  },
  {
   "cell_type": "markdown",
   "metadata": {},
   "source": [
    "## Experiment 5: \n",
    "Use w to add a line representing the least squares fit to your scatter plot from experiment (3)"
   ]
  },
  {
   "cell_type": "code",
   "execution_count": 115,
   "metadata": {},
   "outputs": [
    {
     "data": {
      "text/plain": [
       "[<matplotlib.lines.Line2D at 0x22b939f5dc0>,\n",
       " <matplotlib.lines.Line2D at 0x22b939f5eb0>]"
      ]
     },
     "execution_count": 115,
     "metadata": {},
     "output_type": "execute_result"
    },
    {
     "data": {
      "image/png": "[encoded data removed]",
      "text/plain": [
       "<Figure size 432x288 with 1 Axes>"
      ]
     },
     "metadata": {
      "needs_background": "light"
     },
     "output_type": "display_data"
    }
   ],
   "source": [
    "plt.scatter(rooms, trainingTest)\n",
    "plt.xlabel('RM = the number of rooms')\n",
    "plt.ylabel('MEDV = the median value of a home' )\n",
    "plt.title('MEDV vs RM')\n",
    "plt.plot(X, w[0] + w[1]*X) # The line represents the least squares fit  "
   ]
  },
  {
   "cell_type": "code",
   "execution_count": 79,
   "metadata": {},
   "outputs": [],
   "source": [
    "testx = np.linspace(3.5,15,1)[:,None]\n",
    "testX = np.hstack((np.ones_like(testx),testx))\n",
    "testt = np.dot(testX,w)"
   ]
  },
  {
   "cell_type": "code",
   "execution_count": 80,
   "metadata": {},
   "outputs": [
    {
     "data": {
      "text/plain": [
       "[<matplotlib.lines.Line2D at 0x22b939992b0>,\n",
       " <matplotlib.lines.Line2D at 0x22b939993a0>]"
      ]
     },
     "execution_count": 80,
     "metadata": {},
     "output_type": "execute_result"
    },
    {
     "data": {
      "image/png": "[encoded data removed]",
      "text/plain": [
       "<Figure size 432x288 with 1 Axes>"
      ]
     },
     "metadata": {
      "needs_background": "light"
     },
     "output_type": "display_data"
    }
   ],
   "source": [
    "plt.figure()\n",
    "plt.xlabel('RM = the number of rooms')\n",
    "plt.ylabel('MEDV = the median value of a home' )\n",
    "plt.title('MEDV vs RM')\n",
    "plt.plot(x,t,'ro')\n",
    "plt.plot(testx,testt,'b')\n",
    "plt.plot(X, w[0] + w[1]*X) # The line represents the least squares fit  "
   ]
  },
  {
   "cell_type": "markdown",
   "metadata": {},
   "source": [
    "## The result of Experiment 5:\n",
    "The model appears to fit well for the training set."
   ]
  },
  {
   "cell_type": "markdown",
   "metadata": {},
   "source": [
    "## Experiment 6: \n",
    "Use w to find the predicted response for each value of the RM attribute in the training set, then compute the average loss 𝓛 for the model."
   ]
  },
  {
   "cell_type": "code",
   "execution_count": 81,
   "metadata": {},
   "outputs": [],
   "source": [
    "predictedResponse = np.array([])\n",
    "\n",
    "for num in rooms:\n",
    "    value =  w[0] + w[1]*num\n",
    "    predictedResponse = np.append(predictedResponse,value)"
   ]
  },
  {
   "cell_type": "code",
   "execution_count": 82,
   "metadata": {},
   "outputs": [
    {
     "data": {
      "text/plain": [
       "404"
      ]
     },
     "execution_count": 82,
     "metadata": {},
     "output_type": "execute_result"
    }
   ],
   "source": [
    "predictedResponse.size"
   ]
  },
  {
   "cell_type": "code",
   "execution_count": 83,
   "metadata": {},
   "outputs": [
    {
     "data": {
      "text/plain": [
       "404"
      ]
     },
     "execution_count": 83,
     "metadata": {},
     "output_type": "execute_result"
    }
   ],
   "source": [
    "trainingTest.size"
   ]
  },
  {
   "cell_type": "code",
   "execution_count": 84,
   "metadata": {},
   "outputs": [],
   "source": [
    "lossTraining = np.array([])\n",
    "totalLoss = 0\n",
    "index = 0\n",
    "\n",
    "for num in predictedResponse:\n",
    "    value = (num - trainingTest[index])**2\n",
    "    lossTraining = np.append(lossTraining,value)\n",
    "    index += 1"
   ]
  },
  {
   "cell_type": "code",
   "execution_count": 85,
   "metadata": {},
   "outputs": [
    {
     "data": {
      "text/plain": [
       "41.05654883138218"
      ]
     },
     "execution_count": 85,
     "metadata": {},
     "output_type": "execute_result"
    }
   ],
   "source": [
    "lossTraining.mean()"
   ]
  },
  {
   "cell_type": "markdown",
   "metadata": {},
   "source": [
    "## The result of Experiment 6: \n",
    "The averale loss of the training model with RM attribute is 41.0565."
   ]
  },
  {
   "cell_type": "markdown",
   "metadata": {},
   "source": [
    "## Experiment 7:\n",
    "Repeat experiment (6) for the validation set. How do the training and validation MSE values compare? What accounts for the difference?"
   ]
  },
  {
   "cell_type": "code",
   "execution_count": 86,
   "metadata": {},
   "outputs": [],
   "source": [
    "roomsValidation = validation[:,5]\n",
    "x = validation[:,5][:,None] # turns validation of rooms into a vector"
   ]
  },
  {
   "cell_type": "code",
   "execution_count": 87,
   "metadata": {},
   "outputs": [],
   "source": [
    "X = np.hstack((np.ones_like(x),x)) # turns validation of rooms into a matrix by augmenting each value with a 1"
   ]
  },
  {
   "cell_type": "code",
   "execution_count": 88,
   "metadata": {},
   "outputs": [],
   "source": [
    "t = target[:102][:,None] # turns target into a vector"
   ]
  },
  {
   "cell_type": "code",
   "execution_count": 89,
   "metadata": {},
   "outputs": [
    {
     "name": "stdout",
     "output_type": "stream",
     "text": [
      "[[-36.91728777]\n",
      " [  9.37744447]]\n"
     ]
    }
   ],
   "source": [
    "XX = np.dot(X.T,X)\n",
    "invXX = np.linalg.inv(XX)\n",
    "Xt = np.dot(X.T,t)\n",
    "w = np.dot(invXX,Xt)\n",
    "print(w)"
   ]
  },
  {
   "cell_type": "code",
   "execution_count": 90,
   "metadata": {},
   "outputs": [],
   "source": [
    "predictedResponse = np.array([])\n",
    "\n",
    "for num in roomsValidation:\n",
    "    value =  w[0] + w[1]*num\n",
    "    predictedResponse = np.append(predictedResponse,value)"
   ]
  },
  {
   "cell_type": "code",
   "execution_count": 91,
   "metadata": {},
   "outputs": [
    {
     "data": {
      "text/plain": [
       "102"
      ]
     },
     "execution_count": 91,
     "metadata": {},
     "output_type": "execute_result"
    }
   ],
   "source": [
    "predictedResponse.size"
   ]
  },
  {
   "cell_type": "code",
   "execution_count": 92,
   "metadata": {},
   "outputs": [],
   "source": [
    "validationTest = target[:102]\n",
    "\n",
    "lossValidation = np.array([])\n",
    "totalLoss = 0\n",
    "index = 0\n",
    "\n",
    "for num in predictedResponse:\n",
    "    value = (num - validationTest[index])**2\n",
    "    lossValidation = np.append(lossValidation,value)\n",
    "    index += 1"
   ]
  },
  {
   "cell_type": "code",
   "execution_count": 93,
   "metadata": {},
   "outputs": [
    {
     "data": {
      "text/plain": [
       "53.30625794995984"
      ]
     },
     "execution_count": 93,
     "metadata": {},
     "output_type": "execute_result"
    }
   ],
   "source": [
    "lossValidation.mean()"
   ]
  },
  {
   "cell_type": "markdown",
   "metadata": {},
   "source": [
    "## The result of Experiment 7:\n",
    "The average loss of the validation model with RM attribute is 53.3063. The training and validation MSE values for the RM attribute are different. The MSE for the validation is higher than the tarinig set. The loss that is calculated from validation data will be sensitive to the choice of data in the validation set sice the validation set is small."
   ]
  },
  {
   "cell_type": "markdown",
   "metadata": {},
   "source": [
    "## Experiment 8:\n",
    "Repeat experiments (4), (6), and (7) using all 13 input features as X. How do the training and validation MSEs for this model compare to the values you found for experiment (7). What accounts for the difference?"
   ]
  },
  {
   "cell_type": "code",
   "execution_count": 94,
   "metadata": {},
   "outputs": [
    {
     "name": "stdout",
     "output_type": "stream",
     "text": [
      "[ 3.19642409e+01 -1.14552861e-01  4.48932130e-02  2.83755698e-02\n",
      "  2.70909742e+00 -1.67403672e+01  4.11148209e+00 -8.47905081e-04\n",
      " -1.38493905e+00  3.21084569e-01 -1.22497115e-02 -9.12523500e-01\n",
      "  1.02533638e-02 -4.78414631e-01]\n"
     ]
    }
   ],
   "source": [
    "x = training[:] # turns training into a matrix\n",
    "X = np.insert(x, 0, 1, axis=1) # instead of using ones_like used insert 1 to each row\n",
    "t = target[102:] # turns target into a vector\n",
    "XX = np.dot(X.T,X)\n",
    "invXX = np.linalg.inv(XX)\n",
    "Xt = np.dot(X.T,t)\n",
    "w = np.dot(invXX,Xt)\n",
    "print(w)"
   ]
  },
  {
   "cell_type": "markdown",
   "metadata": {},
   "source": [
    "Now, we need to find the predicted response for each value using all 13 input features  $t_{n}$ = $w_{0}$$x_{n0}$ +$w_{1}$$x_{n1}$ + $w_{2}$$x_{n2}$ + $w_{2}$$x_{n2}$ + ... + $w_{13}$$x_{n13}$ which can also be calculated using matrix multiplication (dot product). We are able to use the dot product as X.w because the number of columns in the matrix X is equal to the number of rows in the the vector w which is 14.    "
   ]
  },
  {
   "cell_type": "code",
   "execution_count": 95,
   "metadata": {},
   "outputs": [
    {
     "data": {
      "text/plain": [
       "14"
      ]
     },
     "execution_count": 95,
     "metadata": {},
     "output_type": "execute_result"
    }
   ],
   "source": [
    "w.size"
   ]
  },
  {
   "cell_type": "code",
   "execution_count": 96,
   "metadata": {},
   "outputs": [
    {
     "data": {
      "text/plain": [
       "(404, 14)"
      ]
     },
     "execution_count": 96,
     "metadata": {},
     "output_type": "execute_result"
    }
   ],
   "source": [
    "X.shape\n"
   ]
  },
  {
   "cell_type": "code",
   "execution_count": 97,
   "metadata": {},
   "outputs": [],
   "source": [
    "Xw = np.dot(X,w) # predicted response vector for the training dataset"
   ]
  },
  {
   "cell_type": "code",
   "execution_count": 98,
   "metadata": {},
   "outputs": [],
   "source": [
    "lossTraining = np.array([])\n",
    "totalLoss = 0\n",
    "index = 0\n",
    "\n",
    "for num in Xw:\n",
    "    value = (num - trainingTest[index])**2\n",
    "    lossTraining = np.append(lossTraining,value)\n",
    "    index += 1"
   ]
  },
  {
   "cell_type": "code",
   "execution_count": 99,
   "metadata": {},
   "outputs": [
    {
     "data": {
      "text/plain": [
       "21.807199582316603"
      ]
     },
     "execution_count": 99,
     "metadata": {},
     "output_type": "execute_result"
    }
   ],
   "source": [
    "lossTraining.mean()"
   ]
  },
  {
   "cell_type": "code",
   "execution_count": 100,
   "metadata": {},
   "outputs": [
    {
     "data": {
      "text/plain": [
       "404"
      ]
     },
     "execution_count": 100,
     "metadata": {},
     "output_type": "execute_result"
    }
   ],
   "source": [
    "Xw.size"
   ]
  },
  {
   "cell_type": "code",
   "execution_count": 101,
   "metadata": {},
   "outputs": [
    {
     "name": "stdout",
     "output_type": "stream",
     "text": [
      "[ 5.12811287e+01 -9.49848182e-02  4.76305111e-02 -3.63407030e-02\n",
      "  3.42317937e+00 -1.96487888e+01  2.81393877e+00  7.15969218e-03\n",
      " -1.83114511e+00  2.50183749e-01 -1.21228727e-02 -1.15160786e+00\n",
      "  7.73583791e-03 -6.62959844e-01]\n"
     ]
    }
   ],
   "source": [
    "x = validation[:]\n",
    "X = np.insert(x, 0, 1, axis=1) # insert 1 to each row instead of using ones_like \n",
    "t = target[:102]\n",
    "XX = np.dot(X.T,X)\n",
    "invXX = np.linalg.inv(XX)\n",
    "Xt = np.dot(X.T,t)\n",
    "w = np.dot(invXX,Xt)\n",
    "print(w)"
   ]
  },
  {
   "cell_type": "code",
   "execution_count": 102,
   "metadata": {},
   "outputs": [
    {
     "data": {
      "text/plain": [
       "14"
      ]
     },
     "execution_count": 102,
     "metadata": {},
     "output_type": "execute_result"
    }
   ],
   "source": [
    "w.size"
   ]
  },
  {
   "cell_type": "code",
   "execution_count": 103,
   "metadata": {},
   "outputs": [
    {
     "data": {
      "text/plain": [
       "(102, 14)"
      ]
     },
     "execution_count": 103,
     "metadata": {},
     "output_type": "execute_result"
    }
   ],
   "source": [
    "X.shape"
   ]
  },
  {
   "cell_type": "code",
   "execution_count": 104,
   "metadata": {},
   "outputs": [],
   "source": [
    "Xw = np.dot(X,w) # predicted response vector for the validation dataset"
   ]
  },
  {
   "cell_type": "code",
   "execution_count": 105,
   "metadata": {},
   "outputs": [],
   "source": [
    "lossTraining = np.array([])\n",
    "totalLoss = 0\n",
    "index = 0\n",
    "\n",
    "for num in Xw:\n",
    "    value = (num - trainingTest[index])**2\n",
    "    lossTraining = np.append(lossTraining,value)\n",
    "    index += 1"
   ]
  },
  {
   "cell_type": "code",
   "execution_count": 106,
   "metadata": {},
   "outputs": [],
   "source": [
    "validationTest = target[:102]\n",
    "lossValidation = np.array([])\n",
    "totalLoss = 0\n",
    "index = 0\n",
    "\n",
    "for num in Xw:\n",
    "    value = (num - validationTest[index])**2\n",
    "    lossValidation = np.append(lossValidation,value)\n",
    "    index += 1"
   ]
  },
  {
   "cell_type": "code",
   "execution_count": 107,
   "metadata": {},
   "outputs": [
    {
     "data": {
      "text/plain": [
       "20.214148879815482"
      ]
     },
     "execution_count": 107,
     "metadata": {},
     "output_type": "execute_result"
    }
   ],
   "source": [
    "lossValidation.mean()"
   ]
  },
  {
   "cell_type": "markdown",
   "metadata": {},
   "source": [
    "## The result of Experiment 8:\n",
    "The average loss of the training and the validation models with all 13 input features are 21.8072 and 20.2141 respectively. Both the training and validation MSEs for this model are smaller compared to the values found for experiment (7). When more features added to the model, the result of this experiment shows that the model can predict better. In our case we have used all 13 features in this model, so this made the model predict better by having a smaller loss (MSE) compared to using only one feature as in experiment (7)."
   ]
  },
  {
   "cell_type": "markdown",
   "metadata": {},
   "source": [
    "## Experiment 9:\n",
    "Based on the value for w for the new model, how much does a one unit increase in each feature change the median value of the home? Based on the description of the dataset provided by StatLib, convert your answer to dollars."
   ]
  },
  {
   "cell_type": "markdown",
   "metadata": {},
   "source": [
    "## The result of Experiment 9:\n",
    "### CRIM     per capita crime rate by town\n",
    "In one unit increase in CRIM, we would expect to see the median value of the home decrease by $114.55"
   ]
  },
  {
   "cell_type": "markdown",
   "metadata": {},
   "source": [
    "### ZN       proportion of residential land zoned for lots over 25,000 sq.ft.\n",
    "In one unit increase in ZN, we would expect to see the median value of the home decrease by $48.93"
   ]
  },
  {
   "cell_type": "markdown",
   "metadata": {},
   "source": [
    "###  INDUS    proportion of non-retail business acres per town\n",
    "In one unit increase in INDUS, we would expect to see the median value of the home increase by $28.38"
   ]
  },
  {
   "cell_type": "markdown",
   "metadata": {},
   "source": [
    "###  CHAS     Charles River dummy variable (= 1 if tract bounds river; 0 otherwise)\n",
    "In one unit increase in CHAS, we would expect to see the median value of the home increase by $2,709.10"
   ]
  },
  {
   "cell_type": "markdown",
   "metadata": {},
   "source": [
    "###  NOX      nitric oxides concentration (parts per 10 million)\n",
    "In one unit increase in NOX, we would expect to see the median value of the home decrease by $16,740.37"
   ]
  },
  {
   "cell_type": "markdown",
   "metadata": {},
   "source": [
    "###  RM       average number of rooms per dwelling\n",
    "In one unit increase in RM, we would expect to see the median value of the home increase by $4,111.48"
   ]
  },
  {
   "cell_type": "markdown",
   "metadata": {},
   "source": [
    "###  AGE      proportion of owner-occupied units built prior to 1940\n",
    "In one unit increase in AGE, we would expect to see the median value of the home decrease by $0.85"
   ]
  },
  {
   "cell_type": "markdown",
   "metadata": {},
   "source": [
    "###  DIS      weighted distances to five Boston employment centres\n",
    "In one unit increase in DIS, we would expect to see the median value of the home decrease by $1,384.94"
   ]
  },
  {
   "cell_type": "markdown",
   "metadata": {},
   "source": [
    "###  RAD      index of accessibility to radial highways\n",
    "In one unit increase in RAD, we would expect to see the median value of the home increase by $321.08"
   ]
  },
  {
   "cell_type": "markdown",
   "metadata": {},
   "source": [
    "###  TAX      full-value property-tax rate per 10,000\n",
    "In one unit increase in TAX, we would expect to see the median value of the home decrease by $12.25"
   ]
  },
  {
   "cell_type": "markdown",
   "metadata": {},
   "source": [
    "### PTRATIO  pupil-teacher ratio by town\n",
    "In one unit increase in PTRATIO, we would expect to see the median value of the home decrease by $912.52"
   ]
  },
  {
   "cell_type": "markdown",
   "metadata": {},
   "source": [
    "###  B        1000(Bk - 0.63)^2 where Bk is the proportion of blacks by town\n",
    "In one unit increase in B, we would expect to see the median value of the home increase by $10.25"
   ]
  },
  {
   "cell_type": "markdown",
   "metadata": {},
   "source": [
    "###  LSTAT    % lower status of the population\n",
    "In one unit increase in AGE, we would expect to see the median value of the home decrease by $47.84"
   ]
  },
  {
   "cell_type": "markdown",
   "metadata": {},
   "source": [
    "## Experiment 10:\n",
    "Based on the amount of change in the value of a home, which features are most important?"
   ]
  },
  {
   "cell_type": "markdown",
   "metadata": {},
   "source": [
    "## The result of Experiment 10:\n",
    "The features that are most important based on the amount of change in the value of a home are NOX, RM, CHAS, DIS, and PTRATIO.\n"
   ]
  }
 ],
 "metadata": {
  "kernelspec": {
   "display_name": "Python 3",
   "language": "python",
   "name": "python3"
  },
  "language_info": {
   "codemirror_mode": {
    "name": "ipython",
    "version": 3
   },
   "file_extension": ".py",
   "mimetype": "text/x-python",
   "name": "python",
   "nbconvert_exporter": "python",
   "pygments_lexer": "ipython3",
   "version": "3.8.3"
  }
 },
 "nbformat": 4,
 "nbformat_minor": 4
}
