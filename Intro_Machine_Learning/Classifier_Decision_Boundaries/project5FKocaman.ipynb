{
 "cells": [
  {
   "cell_type": "markdown",
   "metadata": {},
   "source": [
    "# CPSC 483-01 Project 5 Classifier Decision Boundaries 4/22/2021\n",
    "   ## Student Name: Fulya Kocaman\n",
    "   ## Student ID: 803023878\n",
    "   \n",
    " ## Project 5 Description:\n",
    "\n",
    "In this project I used Seaborn, pandas, scikit-learn, NumPy and pyplot to analyze some toy datasets and compare the decision boundaries defined by some of the simpler classifier algorithms. There are three datasets which are labeled as dataset1.csv, dataset2.csv, and dataset3.csv and these datasets have three columns: features x1 and x2, and label t ∈ {0, 1}.\n",
    "\n",
    "I implemented all of the required parts of this project and answered all of the experiment questions in the markdown cells of my code below. As a conclusion, I can say that my code seems to be working fine and predicting accurate results to the given experiment questions."
   ]
  },
  {
   "cell_type": "code",
   "execution_count": 1,
   "metadata": {},
   "outputs": [],
   "source": [
    "import numpy as np\n",
    "import matplotlib.pyplot as plt\n",
    "import pandas as pd\n",
    "%matplotlib inline\n",
    "import seaborn as sns"
   ]
  },
  {
   "cell_type": "markdown",
   "metadata": {},
   "source": [
    "## Experiment 1: \n",
    "Load and examine each dataset."
   ]
  },
  {
   "cell_type": "code",
   "execution_count": 2,
   "metadata": {},
   "outputs": [
    {
     "data": {
      "text/html": [
       "<div>\n",
       "<style scoped>\n",
       "    .dataframe tbody tr th:only-of-type {\n",
       "        vertical-align: middle;\n",
       "    }\n",
       "\n",
       "    .dataframe tbody tr th {\n",
       "        vertical-align: top;\n",
       "    }\n",
       "\n",
       "    .dataframe thead th {\n",
       "        text-align: right;\n",
       "    }\n",
       "</style>\n",
       "<table border=\"1\" class=\"dataframe\">\n",
       "  <thead>\n",
       "    <tr style=\"text-align: right;\">\n",
       "      <th></th>\n",
       "      <th>0</th>\n",
       "      <th>1</th>\n",
       "      <th>2</th>\n",
       "    </tr>\n",
       "  </thead>\n",
       "  <tbody>\n",
       "    <tr>\n",
       "      <th>0</th>\n",
       "      <td>1.800539</td>\n",
       "      <td>-0.539218</td>\n",
       "      <td>0</td>\n",
       "    </tr>\n",
       "    <tr>\n",
       "      <th>1</th>\n",
       "      <td>24.330831</td>\n",
       "      <td>26.439146</td>\n",
       "      <td>1</td>\n",
       "    </tr>\n",
       "    <tr>\n",
       "      <th>2</th>\n",
       "      <td>21.124114</td>\n",
       "      <td>21.166814</td>\n",
       "      <td>1</td>\n",
       "    </tr>\n",
       "    <tr>\n",
       "      <th>3</th>\n",
       "      <td>10.517197</td>\n",
       "      <td>11.175424</td>\n",
       "      <td>0</td>\n",
       "    </tr>\n",
       "    <tr>\n",
       "      <th>4</th>\n",
       "      <td>19.737721</td>\n",
       "      <td>23.341138</td>\n",
       "      <td>1</td>\n",
       "    </tr>\n",
       "    <tr>\n",
       "      <th>...</th>\n",
       "      <td>...</td>\n",
       "      <td>...</td>\n",
       "      <td>...</td>\n",
       "    </tr>\n",
       "    <tr>\n",
       "      <th>195</th>\n",
       "      <td>7.701944</td>\n",
       "      <td>5.303327</td>\n",
       "      <td>0</td>\n",
       "    </tr>\n",
       "    <tr>\n",
       "      <th>196</th>\n",
       "      <td>24.079743</td>\n",
       "      <td>24.066883</td>\n",
       "      <td>1</td>\n",
       "    </tr>\n",
       "    <tr>\n",
       "      <th>197</th>\n",
       "      <td>24.351346</td>\n",
       "      <td>20.908176</td>\n",
       "      <td>1</td>\n",
       "    </tr>\n",
       "    <tr>\n",
       "      <th>198</th>\n",
       "      <td>24.688063</td>\n",
       "      <td>24.996258</td>\n",
       "      <td>1</td>\n",
       "    </tr>\n",
       "    <tr>\n",
       "      <th>199</th>\n",
       "      <td>36.190529</td>\n",
       "      <td>18.514561</td>\n",
       "      <td>1</td>\n",
       "    </tr>\n",
       "  </tbody>\n",
       "</table>\n",
       "<p>200 rows × 3 columns</p>\n",
       "</div>"
      ],
      "text/plain": [
       "             0          1  2\n",
       "0     1.800539  -0.539218  0\n",
       "1    24.330831  26.439146  1\n",
       "2    21.124114  21.166814  1\n",
       "3    10.517197  11.175424  0\n",
       "4    19.737721  23.341138  1\n",
       "..         ...        ... ..\n",
       "195   7.701944   5.303327  0\n",
       "196  24.079743  24.066883  1\n",
       "197  24.351346  20.908176  1\n",
       "198  24.688063  24.996258  1\n",
       "199  36.190529  18.514561  1\n",
       "\n",
       "[200 rows x 3 columns]"
      ]
     },
     "execution_count": 2,
     "metadata": {},
     "output_type": "execute_result"
    }
   ],
   "source": [
    "dataset1 = pd.read_csv(\"dataset1.csv\", header=None)\n",
    "dataset1"
   ]
  },
  {
   "cell_type": "code",
   "execution_count": 3,
   "metadata": {},
   "outputs": [
    {
     "data": {
      "text/html": [
       "<div>\n",
       "<style scoped>\n",
       "    .dataframe tbody tr th:only-of-type {\n",
       "        vertical-align: middle;\n",
       "    }\n",
       "\n",
       "    .dataframe tbody tr th {\n",
       "        vertical-align: top;\n",
       "    }\n",
       "\n",
       "    .dataframe thead th {\n",
       "        text-align: right;\n",
       "    }\n",
       "</style>\n",
       "<table border=\"1\" class=\"dataframe\">\n",
       "  <thead>\n",
       "    <tr style=\"text-align: right;\">\n",
       "      <th></th>\n",
       "      <th>x1</th>\n",
       "      <th>x2</th>\n",
       "      <th>class</th>\n",
       "    </tr>\n",
       "  </thead>\n",
       "  <tbody>\n",
       "    <tr>\n",
       "      <th>0</th>\n",
       "      <td>1.800539</td>\n",
       "      <td>-0.539218</td>\n",
       "      <td>0</td>\n",
       "    </tr>\n",
       "    <tr>\n",
       "      <th>1</th>\n",
       "      <td>24.330831</td>\n",
       "      <td>26.439146</td>\n",
       "      <td>1</td>\n",
       "    </tr>\n",
       "    <tr>\n",
       "      <th>2</th>\n",
       "      <td>21.124114</td>\n",
       "      <td>21.166814</td>\n",
       "      <td>1</td>\n",
       "    </tr>\n",
       "    <tr>\n",
       "      <th>3</th>\n",
       "      <td>10.517197</td>\n",
       "      <td>11.175424</td>\n",
       "      <td>0</td>\n",
       "    </tr>\n",
       "    <tr>\n",
       "      <th>4</th>\n",
       "      <td>19.737721</td>\n",
       "      <td>23.341138</td>\n",
       "      <td>1</td>\n",
       "    </tr>\n",
       "    <tr>\n",
       "      <th>...</th>\n",
       "      <td>...</td>\n",
       "      <td>...</td>\n",
       "      <td>...</td>\n",
       "    </tr>\n",
       "    <tr>\n",
       "      <th>195</th>\n",
       "      <td>7.701944</td>\n",
       "      <td>5.303327</td>\n",
       "      <td>0</td>\n",
       "    </tr>\n",
       "    <tr>\n",
       "      <th>196</th>\n",
       "      <td>24.079743</td>\n",
       "      <td>24.066883</td>\n",
       "      <td>1</td>\n",
       "    </tr>\n",
       "    <tr>\n",
       "      <th>197</th>\n",
       "      <td>24.351346</td>\n",
       "      <td>20.908176</td>\n",
       "      <td>1</td>\n",
       "    </tr>\n",
       "    <tr>\n",
       "      <th>198</th>\n",
       "      <td>24.688063</td>\n",
       "      <td>24.996258</td>\n",
       "      <td>1</td>\n",
       "    </tr>\n",
       "    <tr>\n",
       "      <th>199</th>\n",
       "      <td>36.190529</td>\n",
       "      <td>18.514561</td>\n",
       "      <td>1</td>\n",
       "    </tr>\n",
       "  </tbody>\n",
       "</table>\n",
       "<p>200 rows × 3 columns</p>\n",
       "</div>"
      ],
      "text/plain": [
       "            x1         x2  class\n",
       "0     1.800539  -0.539218      0\n",
       "1    24.330831  26.439146      1\n",
       "2    21.124114  21.166814      1\n",
       "3    10.517197  11.175424      0\n",
       "4    19.737721  23.341138      1\n",
       "..         ...        ...    ...\n",
       "195   7.701944   5.303327      0\n",
       "196  24.079743  24.066883      1\n",
       "197  24.351346  20.908176      1\n",
       "198  24.688063  24.996258      1\n",
       "199  36.190529  18.514561      1\n",
       "\n",
       "[200 rows x 3 columns]"
      ]
     },
     "execution_count": 3,
     "metadata": {},
     "output_type": "execute_result"
    }
   ],
   "source": [
    "df1 = dataset1.rename(columns={0: \"x1\", 1: \"x2\", 2: \"class\"})\n",
    "df1"
   ]
  },
  {
   "cell_type": "code",
   "execution_count": 4,
   "metadata": {},
   "outputs": [
    {
     "data": {
      "text/html": [
       "<div>\n",
       "<style scoped>\n",
       "    .dataframe tbody tr th:only-of-type {\n",
       "        vertical-align: middle;\n",
       "    }\n",
       "\n",
       "    .dataframe tbody tr th {\n",
       "        vertical-align: top;\n",
       "    }\n",
       "\n",
       "    .dataframe thead th {\n",
       "        text-align: right;\n",
       "    }\n",
       "</style>\n",
       "<table border=\"1\" class=\"dataframe\">\n",
       "  <thead>\n",
       "    <tr style=\"text-align: right;\">\n",
       "      <th></th>\n",
       "      <th>0</th>\n",
       "      <th>1</th>\n",
       "      <th>2</th>\n",
       "    </tr>\n",
       "  </thead>\n",
       "  <tbody>\n",
       "    <tr>\n",
       "      <th>0</th>\n",
       "      <td>-1.664407</td>\n",
       "      <td>17.245415</td>\n",
       "      <td>0</td>\n",
       "    </tr>\n",
       "    <tr>\n",
       "      <th>1</th>\n",
       "      <td>20.211237</td>\n",
       "      <td>8.599145</td>\n",
       "      <td>1</td>\n",
       "    </tr>\n",
       "    <tr>\n",
       "      <th>2</th>\n",
       "      <td>12.675218</td>\n",
       "      <td>23.148375</td>\n",
       "      <td>1</td>\n",
       "    </tr>\n",
       "    <tr>\n",
       "      <th>3</th>\n",
       "      <td>17.552831</td>\n",
       "      <td>10.311698</td>\n",
       "      <td>1</td>\n",
       "    </tr>\n",
       "    <tr>\n",
       "      <th>4</th>\n",
       "      <td>14.959941</td>\n",
       "      <td>20.225844</td>\n",
       "      <td>1</td>\n",
       "    </tr>\n",
       "    <tr>\n",
       "      <th>...</th>\n",
       "      <td>...</td>\n",
       "      <td>...</td>\n",
       "      <td>...</td>\n",
       "    </tr>\n",
       "    <tr>\n",
       "      <th>195</th>\n",
       "      <td>14.648641</td>\n",
       "      <td>18.261043</td>\n",
       "      <td>1</td>\n",
       "    </tr>\n",
       "    <tr>\n",
       "      <th>196</th>\n",
       "      <td>15.618267</td>\n",
       "      <td>10.398619</td>\n",
       "      <td>1</td>\n",
       "    </tr>\n",
       "    <tr>\n",
       "      <th>197</th>\n",
       "      <td>18.280171</td>\n",
       "      <td>9.001519</td>\n",
       "      <td>1</td>\n",
       "    </tr>\n",
       "    <tr>\n",
       "      <th>198</th>\n",
       "      <td>13.415497</td>\n",
       "      <td>6.349741</td>\n",
       "      <td>1</td>\n",
       "    </tr>\n",
       "    <tr>\n",
       "      <th>199</th>\n",
       "      <td>5.702577</td>\n",
       "      <td>25.346361</td>\n",
       "      <td>0</td>\n",
       "    </tr>\n",
       "  </tbody>\n",
       "</table>\n",
       "<p>200 rows × 3 columns</p>\n",
       "</div>"
      ],
      "text/plain": [
       "             0          1  2\n",
       "0    -1.664407  17.245415  0\n",
       "1    20.211237   8.599145  1\n",
       "2    12.675218  23.148375  1\n",
       "3    17.552831  10.311698  1\n",
       "4    14.959941  20.225844  1\n",
       "..         ...        ... ..\n",
       "195  14.648641  18.261043  1\n",
       "196  15.618267  10.398619  1\n",
       "197  18.280171   9.001519  1\n",
       "198  13.415497   6.349741  1\n",
       "199   5.702577  25.346361  0\n",
       "\n",
       "[200 rows x 3 columns]"
      ]
     },
     "execution_count": 4,
     "metadata": {},
     "output_type": "execute_result"
    }
   ],
   "source": [
    "dataset2 = pd.read_csv(\"dataset2.csv\", header=None)\n",
    "dataset2"
   ]
  },
  {
   "cell_type": "code",
   "execution_count": 5,
   "metadata": {},
   "outputs": [
    {
     "data": {
      "text/html": [
       "<div>\n",
       "<style scoped>\n",
       "    .dataframe tbody tr th:only-of-type {\n",
       "        vertical-align: middle;\n",
       "    }\n",
       "\n",
       "    .dataframe tbody tr th {\n",
       "        vertical-align: top;\n",
       "    }\n",
       "\n",
       "    .dataframe thead th {\n",
       "        text-align: right;\n",
       "    }\n",
       "</style>\n",
       "<table border=\"1\" class=\"dataframe\">\n",
       "  <thead>\n",
       "    <tr style=\"text-align: right;\">\n",
       "      <th></th>\n",
       "      <th>x1</th>\n",
       "      <th>x2</th>\n",
       "      <th>class</th>\n",
       "    </tr>\n",
       "  </thead>\n",
       "  <tbody>\n",
       "    <tr>\n",
       "      <th>0</th>\n",
       "      <td>-1.664407</td>\n",
       "      <td>17.245415</td>\n",
       "      <td>0</td>\n",
       "    </tr>\n",
       "    <tr>\n",
       "      <th>1</th>\n",
       "      <td>20.211237</td>\n",
       "      <td>8.599145</td>\n",
       "      <td>1</td>\n",
       "    </tr>\n",
       "    <tr>\n",
       "      <th>2</th>\n",
       "      <td>12.675218</td>\n",
       "      <td>23.148375</td>\n",
       "      <td>1</td>\n",
       "    </tr>\n",
       "    <tr>\n",
       "      <th>3</th>\n",
       "      <td>17.552831</td>\n",
       "      <td>10.311698</td>\n",
       "      <td>1</td>\n",
       "    </tr>\n",
       "    <tr>\n",
       "      <th>4</th>\n",
       "      <td>14.959941</td>\n",
       "      <td>20.225844</td>\n",
       "      <td>1</td>\n",
       "    </tr>\n",
       "    <tr>\n",
       "      <th>...</th>\n",
       "      <td>...</td>\n",
       "      <td>...</td>\n",
       "      <td>...</td>\n",
       "    </tr>\n",
       "    <tr>\n",
       "      <th>195</th>\n",
       "      <td>14.648641</td>\n",
       "      <td>18.261043</td>\n",
       "      <td>1</td>\n",
       "    </tr>\n",
       "    <tr>\n",
       "      <th>196</th>\n",
       "      <td>15.618267</td>\n",
       "      <td>10.398619</td>\n",
       "      <td>1</td>\n",
       "    </tr>\n",
       "    <tr>\n",
       "      <th>197</th>\n",
       "      <td>18.280171</td>\n",
       "      <td>9.001519</td>\n",
       "      <td>1</td>\n",
       "    </tr>\n",
       "    <tr>\n",
       "      <th>198</th>\n",
       "      <td>13.415497</td>\n",
       "      <td>6.349741</td>\n",
       "      <td>1</td>\n",
       "    </tr>\n",
       "    <tr>\n",
       "      <th>199</th>\n",
       "      <td>5.702577</td>\n",
       "      <td>25.346361</td>\n",
       "      <td>0</td>\n",
       "    </tr>\n",
       "  </tbody>\n",
       "</table>\n",
       "<p>200 rows × 3 columns</p>\n",
       "</div>"
      ],
      "text/plain": [
       "            x1         x2  class\n",
       "0    -1.664407  17.245415      0\n",
       "1    20.211237   8.599145      1\n",
       "2    12.675218  23.148375      1\n",
       "3    17.552831  10.311698      1\n",
       "4    14.959941  20.225844      1\n",
       "..         ...        ...    ...\n",
       "195  14.648641  18.261043      1\n",
       "196  15.618267  10.398619      1\n",
       "197  18.280171   9.001519      1\n",
       "198  13.415497   6.349741      1\n",
       "199   5.702577  25.346361      0\n",
       "\n",
       "[200 rows x 3 columns]"
      ]
     },
     "execution_count": 5,
     "metadata": {},
     "output_type": "execute_result"
    }
   ],
   "source": [
    "df2 = dataset2.rename(columns={0: \"x1\", 1: \"x2\", 2: \"class\"})\n",
    "df2"
   ]
  },
  {
   "cell_type": "code",
   "execution_count": 6,
   "metadata": {},
   "outputs": [
    {
     "data": {
      "text/html": [
       "<div>\n",
       "<style scoped>\n",
       "    .dataframe tbody tr th:only-of-type {\n",
       "        vertical-align: middle;\n",
       "    }\n",
       "\n",
       "    .dataframe tbody tr th {\n",
       "        vertical-align: top;\n",
       "    }\n",
       "\n",
       "    .dataframe thead th {\n",
       "        text-align: right;\n",
       "    }\n",
       "</style>\n",
       "<table border=\"1\" class=\"dataframe\">\n",
       "  <thead>\n",
       "    <tr style=\"text-align: right;\">\n",
       "      <th></th>\n",
       "      <th>0</th>\n",
       "      <th>1</th>\n",
       "      <th>2</th>\n",
       "    </tr>\n",
       "  </thead>\n",
       "  <tbody>\n",
       "    <tr>\n",
       "      <th>0</th>\n",
       "      <td>30.876149</td>\n",
       "      <td>7.806793</td>\n",
       "      <td>0</td>\n",
       "    </tr>\n",
       "    <tr>\n",
       "      <th>1</th>\n",
       "      <td>34.060953</td>\n",
       "      <td>14.802478</td>\n",
       "      <td>0</td>\n",
       "    </tr>\n",
       "    <tr>\n",
       "      <th>2</th>\n",
       "      <td>30.860440</td>\n",
       "      <td>16.270849</td>\n",
       "      <td>0</td>\n",
       "    </tr>\n",
       "    <tr>\n",
       "      <th>3</th>\n",
       "      <td>21.738646</td>\n",
       "      <td>10.306756</td>\n",
       "      <td>1</td>\n",
       "    </tr>\n",
       "    <tr>\n",
       "      <th>4</th>\n",
       "      <td>17.664476</td>\n",
       "      <td>30.921761</td>\n",
       "      <td>1</td>\n",
       "    </tr>\n",
       "    <tr>\n",
       "      <th>...</th>\n",
       "      <td>...</td>\n",
       "      <td>...</td>\n",
       "      <td>...</td>\n",
       "    </tr>\n",
       "    <tr>\n",
       "      <th>195</th>\n",
       "      <td>8.029149</td>\n",
       "      <td>17.007334</td>\n",
       "      <td>1</td>\n",
       "    </tr>\n",
       "    <tr>\n",
       "      <th>196</th>\n",
       "      <td>11.341650</td>\n",
       "      <td>18.551593</td>\n",
       "      <td>1</td>\n",
       "    </tr>\n",
       "    <tr>\n",
       "      <th>197</th>\n",
       "      <td>29.313882</td>\n",
       "      <td>2.027670</td>\n",
       "      <td>0</td>\n",
       "    </tr>\n",
       "    <tr>\n",
       "      <th>198</th>\n",
       "      <td>8.122641</td>\n",
       "      <td>20.294774</td>\n",
       "      <td>1</td>\n",
       "    </tr>\n",
       "    <tr>\n",
       "      <th>199</th>\n",
       "      <td>28.770680</td>\n",
       "      <td>14.784148</td>\n",
       "      <td>0</td>\n",
       "    </tr>\n",
       "  </tbody>\n",
       "</table>\n",
       "<p>200 rows × 3 columns</p>\n",
       "</div>"
      ],
      "text/plain": [
       "             0          1  2\n",
       "0    30.876149   7.806793  0\n",
       "1    34.060953  14.802478  0\n",
       "2    30.860440  16.270849  0\n",
       "3    21.738646  10.306756  1\n",
       "4    17.664476  30.921761  1\n",
       "..         ...        ... ..\n",
       "195   8.029149  17.007334  1\n",
       "196  11.341650  18.551593  1\n",
       "197  29.313882   2.027670  0\n",
       "198   8.122641  20.294774  1\n",
       "199  28.770680  14.784148  0\n",
       "\n",
       "[200 rows x 3 columns]"
      ]
     },
     "execution_count": 6,
     "metadata": {},
     "output_type": "execute_result"
    }
   ],
   "source": [
    "dataset3 = pd.read_csv(\"dataset3.csv\", header=None)\n",
    "dataset3"
   ]
  },
  {
   "cell_type": "code",
   "execution_count": 7,
   "metadata": {},
   "outputs": [
    {
     "data": {
      "text/html": [
       "<div>\n",
       "<style scoped>\n",
       "    .dataframe tbody tr th:only-of-type {\n",
       "        vertical-align: middle;\n",
       "    }\n",
       "\n",
       "    .dataframe tbody tr th {\n",
       "        vertical-align: top;\n",
       "    }\n",
       "\n",
       "    .dataframe thead th {\n",
       "        text-align: right;\n",
       "    }\n",
       "</style>\n",
       "<table border=\"1\" class=\"dataframe\">\n",
       "  <thead>\n",
       "    <tr style=\"text-align: right;\">\n",
       "      <th></th>\n",
       "      <th>x1</th>\n",
       "      <th>x2</th>\n",
       "      <th>class</th>\n",
       "    </tr>\n",
       "  </thead>\n",
       "  <tbody>\n",
       "    <tr>\n",
       "      <th>0</th>\n",
       "      <td>30.876149</td>\n",
       "      <td>7.806793</td>\n",
       "      <td>0</td>\n",
       "    </tr>\n",
       "    <tr>\n",
       "      <th>1</th>\n",
       "      <td>34.060953</td>\n",
       "      <td>14.802478</td>\n",
       "      <td>0</td>\n",
       "    </tr>\n",
       "    <tr>\n",
       "      <th>2</th>\n",
       "      <td>30.860440</td>\n",
       "      <td>16.270849</td>\n",
       "      <td>0</td>\n",
       "    </tr>\n",
       "    <tr>\n",
       "      <th>3</th>\n",
       "      <td>21.738646</td>\n",
       "      <td>10.306756</td>\n",
       "      <td>1</td>\n",
       "    </tr>\n",
       "    <tr>\n",
       "      <th>4</th>\n",
       "      <td>17.664476</td>\n",
       "      <td>30.921761</td>\n",
       "      <td>1</td>\n",
       "    </tr>\n",
       "    <tr>\n",
       "      <th>...</th>\n",
       "      <td>...</td>\n",
       "      <td>...</td>\n",
       "      <td>...</td>\n",
       "    </tr>\n",
       "    <tr>\n",
       "      <th>195</th>\n",
       "      <td>8.029149</td>\n",
       "      <td>17.007334</td>\n",
       "      <td>1</td>\n",
       "    </tr>\n",
       "    <tr>\n",
       "      <th>196</th>\n",
       "      <td>11.341650</td>\n",
       "      <td>18.551593</td>\n",
       "      <td>1</td>\n",
       "    </tr>\n",
       "    <tr>\n",
       "      <th>197</th>\n",
       "      <td>29.313882</td>\n",
       "      <td>2.027670</td>\n",
       "      <td>0</td>\n",
       "    </tr>\n",
       "    <tr>\n",
       "      <th>198</th>\n",
       "      <td>8.122641</td>\n",
       "      <td>20.294774</td>\n",
       "      <td>1</td>\n",
       "    </tr>\n",
       "    <tr>\n",
       "      <th>199</th>\n",
       "      <td>28.770680</td>\n",
       "      <td>14.784148</td>\n",
       "      <td>0</td>\n",
       "    </tr>\n",
       "  </tbody>\n",
       "</table>\n",
       "<p>200 rows × 3 columns</p>\n",
       "</div>"
      ],
      "text/plain": [
       "            x1         x2  class\n",
       "0    30.876149   7.806793      0\n",
       "1    34.060953  14.802478      0\n",
       "2    30.860440  16.270849      0\n",
       "3    21.738646  10.306756      1\n",
       "4    17.664476  30.921761      1\n",
       "..         ...        ...    ...\n",
       "195   8.029149  17.007334      1\n",
       "196  11.341650  18.551593      1\n",
       "197  29.313882   2.027670      0\n",
       "198   8.122641  20.294774      1\n",
       "199  28.770680  14.784148      0\n",
       "\n",
       "[200 rows x 3 columns]"
      ]
     },
     "execution_count": 7,
     "metadata": {},
     "output_type": "execute_result"
    }
   ],
   "source": [
    "df3 = dataset3.rename(columns={0: \"x1\", 1: \"x2\", 2: \"class\"})\n",
    "df3"
   ]
  },
  {
   "cell_type": "markdown",
   "metadata": {},
   "source": [
    "## Experiment 2: \n",
    "Use logistic regression to fit() and score() a binary classifier for dataset 1. How accurate are the model’s predictions?"
   ]
  },
  {
   "cell_type": "code",
   "execution_count": 8,
   "metadata": {},
   "outputs": [],
   "source": [
    "from sklearn.linear_model import LogisticRegression"
   ]
  },
  {
   "cell_type": "code",
   "execution_count": 9,
   "metadata": {},
   "outputs": [
    {
     "data": {
      "text/plain": [
       "1.0"
      ]
     },
     "execution_count": 9,
     "metadata": {},
     "output_type": "execute_result"
    }
   ],
   "source": [
    "# X = feature values, all the columns except the last column\n",
    "X1 = dataset1.iloc[:, :-1]\n",
    "\n",
    "# y = target values, last column of the data frame\n",
    "y1 = dataset1.iloc[:, -1]\n",
    "\n",
    "model1 = LogisticRegression(random_state=(2021-4-22), multi_class='multinomial', penalty='none', solver='newton-cg').fit(X1, y1)\n",
    "model1.score(X1,y1)"
   ]
  },
  {
   "cell_type": "markdown",
   "metadata": {},
   "source": [
    "## The result of Experiment 2: \n",
    "The model from dataset 1 seems to be 100% accurate on predicting using Logistic Regression."
   ]
  },
  {
   "cell_type": "markdown",
   "metadata": {},
   "source": [
    "## Experiment 3: \n",
    "Use logistic regression to fit() and score() a binary classifier for dataset 2. How well does it score?"
   ]
  },
  {
   "cell_type": "code",
   "execution_count": 10,
   "metadata": {},
   "outputs": [
    {
     "data": {
      "text/plain": [
       "0.525"
      ]
     },
     "execution_count": 10,
     "metadata": {},
     "output_type": "execute_result"
    }
   ],
   "source": [
    "# X = feature values, all the columns except the last column\n",
    "X2 = dataset2.iloc[:, :-1]\n",
    "\n",
    "# y = target values, last column of the data frame\n",
    "y2 = dataset2.iloc[:, -1]\n",
    "\n",
    "model2 = LogisticRegression(random_state=0, multi_class='multinomial', penalty='none', solver='newton-cg').fit(X2, y2)\n",
    "model2.score(X2,y2)"
   ]
  },
  {
   "cell_type": "markdown",
   "metadata": {},
   "source": [
    "## The result of Experiment 3: \n",
    "The model from dataset 2 seems to be 52.5% accurate on predicting using Logistic Regression, meaning that this model correctly predicts half the time. Also, model1 seems to be better at predicting than model2 with using Logistic Regression."
   ]
  },
  {
   "cell_type": "markdown",
   "metadata": {},
   "source": [
    "## Experiment 4: \n",
    "Create separate scatterplots for datasets 1 and 2, plotting points from class 0 with a different color and marker from points in class 1. What accounts for the discrepancies between experiments (2) and (3)?"
   ]
  },
  {
   "cell_type": "code",
   "execution_count": 11,
   "metadata": {},
   "outputs": [
    {
     "data": {
      "text/plain": [
       "<matplotlib.axes._subplots.AxesSubplot at 0x1a0794350d0>"
      ]
     },
     "execution_count": 11,
     "metadata": {},
     "output_type": "execute_result"
    },
    {
     "data": {
      "image/png": "[encoded data removed]",
      "text/plain": [
       "<Figure size 432x288 with 1 Axes>"
      ]
     },
     "metadata": {
      "needs_background": "light"
     },
     "output_type": "display_data"
    }
   ],
   "source": [
    "# create scatter plot for samples from each class\n",
    "sns.scatterplot(x=\"x1\", y=\"x2\", hue='class', data=df1)"
   ]
  },
  {
   "cell_type": "code",
   "execution_count": 12,
   "metadata": {},
   "outputs": [
    {
     "data": {
      "text/plain": [
       "<matplotlib.axes._subplots.AxesSubplot at 0x1a0794f2280>"
      ]
     },
     "execution_count": 12,
     "metadata": {},
     "output_type": "execute_result"
    },
    {
     "data": {
      "image/png": "[encoded data removed]",
      "text/plain": [
       "<Figure size 432x288 with 1 Axes>"
      ]
     },
     "metadata": {
      "needs_background": "light"
     },
     "output_type": "display_data"
    }
   ],
   "source": [
    "# create scatter plot for samples from each class\n",
    "sns.scatterplot(x=\"x1\", y=\"x2\", hue='class', data=df2)"
   ]
  },
  {
   "cell_type": "markdown",
   "metadata": {},
   "source": [
    "## The result of Experiment 4: \n",
    "In the scatterplot from model1 we can see a clear separation between examples from the two classes and it could be esay for a machine learning model to draw a line to separate the two classes. So, that is why the accuracy from model1 is 100%. However, in the scatterplot from model2 wherever you draw a line to separate the two classes, each half will contain both of the examples, so it is understanble that the accuracy from model2 is about 50%."
   ]
  },
  {
   "cell_type": "markdown",
   "metadata": {},
   "source": [
    "## Experiment 5: \n",
    "Fit and score Gaussian Naive Bayes classifiers for datasets 1 and 2. How well do these classifiers score compared to logistic regression?"
   ]
  },
  {
   "cell_type": "code",
   "execution_count": 13,
   "metadata": {},
   "outputs": [
    {
     "data": {
      "text/plain": [
       "1.0"
      ]
     },
     "execution_count": 13,
     "metadata": {},
     "output_type": "execute_result"
    }
   ],
   "source": [
    "from sklearn.naive_bayes import GaussianNB\n",
    "\n",
    "gnb1 = GaussianNB().fit(X1, y1)\n",
    "gnb1.score(X1,y1)"
   ]
  },
  {
   "cell_type": "code",
   "execution_count": 14,
   "metadata": {},
   "outputs": [
    {
     "data": {
      "text/plain": [
       "1.0"
      ]
     },
     "execution_count": 14,
     "metadata": {},
     "output_type": "execute_result"
    }
   ],
   "source": [
    "gnb2 = GaussianNB().fit(X2, y2)\n",
    "gnb2.score(X2,y2)"
   ]
  },
  {
   "cell_type": "markdown",
   "metadata": {},
   "source": [
    "## The result of Experiment 5: \n",
    "Both models scored 100% using Gaussian Naive Bayes classifier, so dataset2 scored way higher with Gaussian Naive Bayes than with Logistic Regression. Naive Bayes assumes that the features are conditionally independent, but they are rarely independent in real datasets. So, Naive Bayes has a higher bias but lower variance compared to Logistic Regression. If the data set follows the bias then Naive Bayes will be a better classifier. Both Naive Bayes and Logistic regression are linear classifiers, Logistic Regression makes a prediction for the probability using a direct functional form where as Naive Bayes figures out how the data was generated given the results."
   ]
  },
  {
   "cell_type": "markdown",
   "metadata": {},
   "source": [
    "## Experiment 6: \n",
    "Repeat experiment (5) with K-Nearest Neighbor classifiers."
   ]
  },
  {
   "cell_type": "code",
   "execution_count": 15,
   "metadata": {},
   "outputs": [
    {
     "data": {
      "text/plain": [
       "1.0"
      ]
     },
     "execution_count": 15,
     "metadata": {},
     "output_type": "execute_result"
    }
   ],
   "source": [
    "from sklearn.neighbors import KNeighborsClassifier\n",
    "\n",
    "neigh1 = KNeighborsClassifier(n_neighbors=3).fit(X1, y1)\n",
    "neigh1.score(X1, y1)"
   ]
  },
  {
   "cell_type": "code",
   "execution_count": 16,
   "metadata": {},
   "outputs": [
    {
     "data": {
      "text/plain": [
       "1.0"
      ]
     },
     "execution_count": 16,
     "metadata": {},
     "output_type": "execute_result"
    }
   ],
   "source": [
    "neigh2 = KNeighborsClassifier(n_neighbors=3).fit(X2, y2)\n",
    "neigh2.score(X2, y2)"
   ]
  },
  {
   "cell_type": "markdown",
   "metadata": {},
   "source": [
    "## The result of Experiment 6: \n",
    "Both models scored 100% using K-Nearest Neighbor classifier, so dataset2 scored way higher with K-Nearest Neighbor than with Logistic Regression. In KNN, we look for k neighbors and come up with the prediction. Each class is clustered together in both datasets, so that is why they both had a perfect score of predicting."
   ]
  },
  {
   "cell_type": "markdown",
   "metadata": {},
   "source": [
    "## Experiment 7: \n",
    "Use the code from KV Subbaiah Setty’s tutorial How To Plot A Decision Boundary For Machine Learning Algorithms in Python as a guide, plot the decision boundaries for each classifier and dataset. What differences do you observe?"
   ]
  },
  {
   "cell_type": "code",
   "execution_count": 17,
   "metadata": {},
   "outputs": [
    {
     "data": {
      "image/png": "[encoded data removed]",
      "text/plain": [
       "<Figure size 432x288 with 2 Axes>"
      ]
     },
     "metadata": {
      "needs_background": "light"
     },
     "output_type": "display_data"
    }
   ],
   "source": [
    "# define bounds of the domain\n",
    "min1, max1 = dataset1[0].min()-1, dataset1[0].max()+1\n",
    "min2, max2 = dataset1[1].min()-1, dataset1[1].max()+1\n",
    "\n",
    "# define the x and y scale\n",
    "x1grid = np.arange(min1, max1, 0.1)\n",
    "x2grid = np.arange(min2, max2, 0.1)\n",
    "\n",
    "# create all of the lines and rows of the grid\n",
    "xx, yy = np.meshgrid(x1grid, x2grid)\n",
    "\n",
    "# flatten each grid to a vector\n",
    "r1, r2 = xx.flatten(), yy.flatten()\n",
    "r1, r2 = r1.reshape((len(r1), 1)), r2.reshape((len(r2), 1))\n",
    "\n",
    "# horizontal stack vectors to create x1,x2 input for the model\n",
    "grid = np.hstack((r1,r2))\n",
    "\n",
    "# make predictions for the grid of the model1 used Logistic Regression\n",
    "yhat1 = model1.predict(grid)\n",
    "\n",
    "# reshape the predictions back into a grid\n",
    "zz = yhat1.reshape(xx.shape)\n",
    "\n",
    "# plot the grid of x, y and z values as a surface\n",
    "c = plt.contourf(xx, yy, zz, cmap='RdBu')\n",
    "\n",
    "# add a legend, called a color bar\n",
    "plt.colorbar(c)\n",
    "\n",
    "# create scatter plot for samples from each class\n",
    "for class_value in range(2):\n",
    "    # get row indexes for samples with this class\n",
    "    row_ix = np.where(y1 == class_value)\n",
    "    \n",
    "    #turn the dataset1 into a numpy array\n",
    "    npDataset1=np.array(dataset1)\n",
    "    \n",
    "    #slice out first two columns for features x1 nad x2\n",
    "    npX1=npDataset1[:, :-1]\n",
    "\n",
    "    # create scatter of these samples\n",
    "    plt.scatter(npX1[row_ix, 0], npX1[row_ix, 1], cmap='Paired')"
   ]
  },
  {
   "cell_type": "code",
   "execution_count": 18,
   "metadata": {},
   "outputs": [
    {
     "data": {
      "image/png": "[encoded data removed]",
      "text/plain": [
       "<Figure size 432x288 with 2 Axes>"
      ]
     },
     "metadata": {
      "needs_background": "light"
     },
     "output_type": "display_data"
    }
   ],
   "source": [
    "# make predictions for the grid of the model2 used Logistic Regression\n",
    "yhat2 = model2.predict(grid)\n",
    "\n",
    "# reshape the predictions back into a grid\n",
    "zz = yhat1.reshape(xx.shape)\n",
    "\n",
    "# plot the grid of x, y and z values as a surface\n",
    "c = plt.contourf(xx, yy, zz, cmap='RdBu')\n",
    "\n",
    "# add a legend, called a color bar\n",
    "plt.colorbar(c)\n",
    "\n",
    "# create scatter plot for samples from each class\n",
    "for class_value in range(2):\n",
    "    # get row indexes for samples with this class\n",
    "    row_ix = np.where(y2 == class_value)\n",
    "    \n",
    "    #turn the dataset2 into a numpy array\n",
    "    npDataset2=np.array(dataset2)\n",
    "    \n",
    "    #slice out first two columns for features x1 nad x2\n",
    "    npX2=npDataset2[:, :-1]\n",
    "\n",
    "    # create scatter of these samples\n",
    "    plt.scatter(npX2[row_ix, 0], npX2[row_ix, 1], cmap='Paired')"
   ]
  },
  {
   "cell_type": "code",
   "execution_count": 19,
   "metadata": {},
   "outputs": [
    {
     "data": {
      "image/png": "[encoded data removed]",
      "text/plain": [
       "<Figure size 432x288 with 2 Axes>"
      ]
     },
     "metadata": {
      "needs_background": "light"
     },
     "output_type": "display_data"
    }
   ],
   "source": [
    "# make predictions for the grid of the model1 used Gaussian Naive Bayes\n",
    "yhat1 = gnb1.predict(grid)\n",
    "\n",
    "# reshape the predictions back into a grid\n",
    "zz = yhat1.reshape(xx.shape)\n",
    "\n",
    "# plot the grid of x, y and z values as a surface\n",
    "c = plt.contourf(xx, yy, zz, cmap='RdBu')\n",
    "\n",
    "# add a legend, called a color bar\n",
    "plt.colorbar(c)\n",
    "\n",
    "# create scatter plot for samples from each class\n",
    "for class_value in range(2):\n",
    "    # get row indexes for samples with this class\n",
    "    row_ix = np.where(y1 == class_value)\n",
    "    \n",
    "    #turn the dataset1 into a numpy array\n",
    "    npDataset1=np.array(dataset1)\n",
    "    \n",
    "    #slice out first two columns for features x1 nad x2\n",
    "    npX1=npDataset1[:, :-1]\n",
    "\n",
    "    # create scatter of these samples\n",
    "    plt.scatter(npX1[row_ix, 0], npX1[row_ix, 1], cmap='Paired')"
   ]
  },
  {
   "cell_type": "code",
   "execution_count": 20,
   "metadata": {},
   "outputs": [
    {
     "data": {
      "image/png": "[encoded data removed]",
      "text/plain": [
       "<Figure size 432x288 with 2 Axes>"
      ]
     },
     "metadata": {
      "needs_background": "light"
     },
     "output_type": "display_data"
    }
   ],
   "source": [
    "# make predictions for the grid of the model2 used Gaussian Naive Bayes\n",
    "yhat2 = gnb2.predict(grid)\n",
    "\n",
    "# reshape the predictions back into a grid\n",
    "zz = yhat2.reshape(xx.shape)\n",
    "\n",
    "# plot the grid of x, y and z values as a surface\n",
    "c = plt.contourf(xx, yy, zz, cmap='RdBu')\n",
    "\n",
    "# add a legend, called a color bar\n",
    "plt.colorbar(c)\n",
    "\n",
    "# create scatter plot for samples from each class\n",
    "for class_value in range(2):\n",
    "    # get row indexes for samples with this class\n",
    "    row_ix = np.where(y2 == class_value)\n",
    "    \n",
    "    #turn the dataset2 into a numpy array\n",
    "    npDataset2=np.array(dataset2)\n",
    "    \n",
    "    #slice out first two columns for features x1 nad x2\n",
    "    npX2=npDataset2[:, :-1]\n",
    "\n",
    "    # create scatter of these samples\n",
    "    plt.scatter(npX2[row_ix, 0], npX2[row_ix, 1], cmap='Paired')"
   ]
  },
  {
   "cell_type": "code",
   "execution_count": 21,
   "metadata": {},
   "outputs": [
    {
     "data": {
      "image/png": "[encoded data removed]",
      "text/plain": [
       "<Figure size 432x288 with 2 Axes>"
      ]
     },
     "metadata": {
      "needs_background": "light"
     },
     "output_type": "display_data"
    }
   ],
   "source": [
    "# make predictions for the grid of the model1 used  K-Nearest Neighbor \n",
    "yhat1 = neigh1.predict(grid)\n",
    "\n",
    "# reshape the predictions back into a grid\n",
    "zz = yhat1.reshape(xx.shape)\n",
    "\n",
    "# plot the grid of x, y and z values as a surface\n",
    "c = plt.contourf(xx, yy, zz, cmap='RdBu')\n",
    "\n",
    "# add a legend, called a color bar\n",
    "plt.colorbar(c)\n",
    "\n",
    "# create scatter plot for samples from each class\n",
    "for class_value in range(2):\n",
    "    # get row indexes for samples with this class\n",
    "    row_ix = np.where(y1 == class_value)\n",
    "    \n",
    "    #turn the dataset1 into a numpy array\n",
    "    npDataset1=np.array(dataset1)\n",
    "    \n",
    "    #slice out first two columns for features x1 nad x2\n",
    "    npX1=npDataset1[:, :-1]\n",
    "\n",
    "    # create scatter of these samples\n",
    "    plt.scatter(npX1[row_ix, 0], npX1[row_ix, 1], cmap='Paired')"
   ]
  },
  {
   "cell_type": "code",
   "execution_count": 22,
   "metadata": {},
   "outputs": [
    {
     "data": {
      "image/png": "[encoded data removed]",
      "text/plain": [
       "<Figure size 432x288 with 2 Axes>"
      ]
     },
     "metadata": {
      "needs_background": "light"
     },
     "output_type": "display_data"
    }
   ],
   "source": [
    "# make predictions for the grid of the model2 used K-Nearest Neighbor \n",
    "yhat2 = neigh2.predict(grid)\n",
    "\n",
    "# reshape the predictions back into a grid\n",
    "zz = yhat2.reshape(xx.shape)\n",
    "\n",
    "# plot the grid of x, y and z values as a surface\n",
    "c = plt.contourf(xx, yy, zz, cmap='RdBu')\n",
    "\n",
    "# add a legend, called a color bar\n",
    "plt.colorbar(c)\n",
    "\n",
    "# create scatter plot for samples from each class\n",
    "for class_value in range(2):\n",
    "    # get row indexes for samples with this class\n",
    "    row_ix = np.where(y2 == class_value)\n",
    "    \n",
    "    #turn the dataset2 into a numpy array\n",
    "    npDataset2=np.array(dataset2)\n",
    "    \n",
    "    #slice out first two columns for features x1 nad x2\n",
    "    npX2=npDataset2[:, :-1]\n",
    "\n",
    "    # create scatter of these samples\n",
    "    plt.scatter(npX2[row_ix, 0], npX2[row_ix, 1], cmap='Paired')"
   ]
  },
  {
   "cell_type": "markdown",
   "metadata": {},
   "source": [
    "## The result of Experiment 7: \n",
    "The decision boundary plots from dataset1 showed a perfect separation of two classes using all three classifiers. For the dataset2, K-Nearest Neighbor and Gaussian Naive Bayes classifiers gave a perfect separation, whereas with Logistic Regression there are half of each class in each boundary as the mean accuracy score showed in the experiment number 3 that it correctly predicts about half the time."
   ]
  },
  {
   "cell_type": "markdown",
   "metadata": {},
   "source": [
    "## Experiment 8: \n",
    "Now repeat experiments (2), (5), (6), and (7) with dataset 3.  "
   ]
  },
  {
   "cell_type": "code",
   "execution_count": 23,
   "metadata": {},
   "outputs": [
    {
     "data": {
      "text/plain": [
       "0.87"
      ]
     },
     "execution_count": 23,
     "metadata": {},
     "output_type": "execute_result"
    }
   ],
   "source": [
    "# X = feature values, all the columns except the last column\n",
    "X3 = dataset3.iloc[:, :-1]\n",
    "\n",
    "# y = target values, last column of the data frame\n",
    "y3 = dataset3.iloc[:, -1]\n",
    "\n",
    "model3 = LogisticRegression(random_state=0, multi_class='multinomial', penalty='none', solver='newton-cg').fit(X3, y3)\n",
    "\n",
    "#Logistic Regression score for dataset3\n",
    "model3.score(X3,y3)"
   ]
  },
  {
   "cell_type": "code",
   "execution_count": 24,
   "metadata": {},
   "outputs": [
    {
     "data": {
      "text/plain": [
       "0.885"
      ]
     },
     "execution_count": 24,
     "metadata": {},
     "output_type": "execute_result"
    }
   ],
   "source": [
    "gnb3 = GaussianNB().fit(X3, y3)\n",
    "\n",
    "#Gaussian Naive Bayes score for dataset3\n",
    "gnb3.score(X3,y3)"
   ]
  },
  {
   "cell_type": "code",
   "execution_count": 25,
   "metadata": {},
   "outputs": [
    {
     "data": {
      "text/plain": [
       "1.0"
      ]
     },
     "execution_count": 25,
     "metadata": {},
     "output_type": "execute_result"
    }
   ],
   "source": [
    "neigh3 = KNeighborsClassifier(n_neighbors=3).fit(X3, y3)\n",
    "\n",
    "#K-Nearest Neighbor score for dataset3\n",
    "neigh3.score(X3, y3)"
   ]
  },
  {
   "cell_type": "code",
   "execution_count": 26,
   "metadata": {},
   "outputs": [
    {
     "data": {
      "text/plain": [
       "<matplotlib.axes._subplots.AxesSubplot at 0x1a07ac1b0d0>"
      ]
     },
     "execution_count": 26,
     "metadata": {},
     "output_type": "execute_result"
    },
    {
     "data": {
      "image/png": "[encoded data removed]",
      "text/plain": [
       "<Figure size 432x288 with 1 Axes>"
      ]
     },
     "metadata": {
      "needs_background": "light"
     },
     "output_type": "display_data"
    }
   ],
   "source": [
    "# create scatter plot for samples from each class\n",
    "sns.scatterplot(x=\"x1\", y=\"x2\", hue='class', data=df3)"
   ]
  },
  {
   "cell_type": "code",
   "execution_count": 27,
   "metadata": {},
   "outputs": [
    {
     "data": {
      "image/png": "[encoded data removed]",
      "text/plain": [
       "<Figure size 432x288 with 2 Axes>"
      ]
     },
     "metadata": {
      "needs_background": "light"
     },
     "output_type": "display_data"
    }
   ],
   "source": [
    "# make predictions for the grid of the model2 used Logistic Regression\n",
    "yhat3 = model3.predict(grid)\n",
    "\n",
    "# reshape the predictions back into a grid\n",
    "zz = yhat3.reshape(xx.shape)\n",
    "\n",
    "# plot the grid of x, y and z values as a surface\n",
    "c = plt.contourf(xx, yy, zz, cmap='RdBu')\n",
    "\n",
    "# add a legend, called a color bar\n",
    "plt.colorbar(c)\n",
    "\n",
    "# create scatter plot for samples from each class\n",
    "for class_value in range(2):\n",
    "    # get row indexes for samples with this class\n",
    "    row_ix = np.where(y3 == class_value)\n",
    "    \n",
    "    #turn the dataset2 into a numpy array\n",
    "    npDataset3=np.array(dataset3)\n",
    "    \n",
    "    #slice out first two columns for features x1 nad x2\n",
    "    npX3=npDataset3[:, :-1]\n",
    "\n",
    "    # create scatter of these samples\n",
    "    plt.scatter(npX3[row_ix, 0], npX3[row_ix, 1], cmap='Paired')"
   ]
  },
  {
   "cell_type": "code",
   "execution_count": 28,
   "metadata": {},
   "outputs": [
    {
     "data": {
      "image/png": "[encoded data removed]",
      "text/plain": [
       "<Figure size 432x288 with 2 Axes>"
      ]
     },
     "metadata": {
      "needs_background": "light"
     },
     "output_type": "display_data"
    }
   ],
   "source": [
    "# make predictions for the grid of the model2 used Gaussian Naive Bayes\n",
    "yhat3 = gnb3.predict(grid)\n",
    "\n",
    "# reshape the predictions back into a grid\n",
    "zz = yhat3.reshape(xx.shape)\n",
    "\n",
    "# plot the grid of x, y and z values as a surface\n",
    "c = plt.contourf(xx, yy, zz, cmap='RdBu')\n",
    "\n",
    "# add a legend, called a color bar\n",
    "plt.colorbar(c)\n",
    "\n",
    "# create scatter plot for samples from each class\n",
    "for class_value in range(2):\n",
    "    # get row indexes for samples with this class\n",
    "    row_ix = np.where(y3 == class_value)\n",
    "    \n",
    "    #turn the dataset2 into a numpy array\n",
    "    npDataset3=np.array(dataset3)\n",
    "    \n",
    "    #slice out first two columns for features x1 nad x2\n",
    "    npX3=npDataset3[:, :-1]\n",
    "\n",
    "    # create scatter of these samples\n",
    "    plt.scatter(npX3[row_ix, 0], npX3[row_ix, 1], cmap='Paired')"
   ]
  },
  {
   "cell_type": "code",
   "execution_count": 29,
   "metadata": {},
   "outputs": [
    {
     "data": {
      "image/png": "[encoded data removed]",
      "text/plain": [
       "<Figure size 432x288 with 2 Axes>"
      ]
     },
     "metadata": {
      "needs_background": "light"
     },
     "output_type": "display_data"
    }
   ],
   "source": [
    "# make predictions for the grid of the model2 used K-Nearest Neighbor \n",
    "yhat3 = neigh3.predict(grid)\n",
    "\n",
    "# reshape the predictions back into a grid\n",
    "zz = yhat3.reshape(xx.shape)\n",
    "\n",
    "# plot the grid of x, y and z values as a surface\n",
    "c = plt.contourf(xx, yy, zz, cmap='RdBu')\n",
    "\n",
    "# add a legend, called a color bar\n",
    "plt.colorbar(c)\n",
    "\n",
    "# create scatter plot for samples from each class\n",
    "for class_value in range(2):\n",
    "    # get row indexes for samples with this class\n",
    "    row_ix = np.where(y3 == class_value)\n",
    "    \n",
    "    #turn the dataset2 into a numpy array\n",
    "    npDataset3=np.array(dataset3)\n",
    "    \n",
    "    #slice out first two columns for features x1 nad x2\n",
    "    npX3=npDataset3[:, :-1]\n",
    "\n",
    "    # create scatter of these samples\n",
    "    plt.scatter(npX3[row_ix, 0], npX3[row_ix, 1], cmap='Paired')"
   ]
  },
  {
   "cell_type": "markdown",
   "metadata": {},
   "source": [
    "## The result of Experiment 8: \n",
    "The mean accuracy scores of the dataset3 using Logistic Regression, Gaussian Naive Bayes and K-Nearest Neighbor classifiers are 87%, 88.5% and 100% respectively. The decision boundary plots using Logistic Regression and Gaussian Naive Bayes showed that the decision boundaries for these classifiers have approximately same separation  of two classes, there are some data values (about 13-14%) of from each class in each boundary as their mean accuracy scores predicted.\n",
    "However, the decision boundary plot using K-Nearest Neighbor classifier from dataset3 showed a perfect separation along k=3 neighbors of each class as the mean accuracy score predicted."
   ]
  }
 ],
 "metadata": {
  "kernelspec": {
   "display_name": "Python 3",
   "language": "python",
   "name": "python3"
  },
  "language_info": {
   "codemirror_mode": {
    "name": "ipython",
    "version": 3
   },
   "file_extension": ".py",
   "mimetype": "text/x-python",
   "name": "python",
   "nbconvert_exporter": "python",
   "pygments_lexer": "ipython3",
   "version": "3.8.3"
  }
 },
 "nbformat": 4,
 "nbformat_minor": 4
}
