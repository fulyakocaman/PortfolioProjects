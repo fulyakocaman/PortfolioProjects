{
 "cells": [
  {
   "cell_type": "markdown",
   "metadata": {},
   "source": [
    "# CPSC 483-01 Project 3 Boston House Prices Due 3/25/2021\n",
    "   ## Student Name: Fulya Kocaman\n",
    "   ## Student ID: 803023878\n",
    "   \n",
    " ## Project 3 Description:\n",
    "\n",
    "In this project I used scikit-learn and NumPy to implement vectorized linear and polynomial regression models and compare their performance using separate training and test sets of the Boston house-price data. In the training dataset we have 13 variables (from CRIM to LSTAT) and in the test dataset we have a variable called MEDV which is the median value of a home in $1000s. \n",
    "\n",
    "I implemented all of the required parts of this project and answered all of the experiment questions in the markdown cells of my code below. As a conclusion, I can say that my code seems to be working fine and predicting accurate results to the given experiment questions. "
   ]
  },
  {
   "cell_type": "code",
   "execution_count": 201,
   "metadata": {},
   "outputs": [],
   "source": [
    "import numpy as np\n",
    "import matplotlib.pyplot as plt\n",
    "from sklearn.model_selection import train_test_split\n",
    "from sklearn.linear_model import LinearRegression\n",
    "from sklearn.metrics import mean_squared_error\n",
    "from sklearn.preprocessing import PolynomialFeatures "
   ]
  },
  {
   "cell_type": "markdown",
   "metadata": {},
   "source": [
    "## Experiment 1: \n",
    "Load the the dataset"
   ]
  },
  {
   "cell_type": "code",
   "execution_count": 202,
   "metadata": {},
   "outputs": [],
   "source": [
    "with np.load('boston.npz') as data:\n",
    "    features = data['features']\n",
    "    target = data['target']"
   ]
  },
  {
   "cell_type": "code",
   "execution_count": 203,
   "metadata": {},
   "outputs": [
    {
     "data": {
      "text/plain": [
       "6578"
      ]
     },
     "execution_count": 203,
     "metadata": {},
     "output_type": "execute_result"
    }
   ],
   "source": [
    "features.size"
   ]
  },
  {
   "cell_type": "code",
   "execution_count": 204,
   "metadata": {},
   "outputs": [
    {
     "data": {
      "text/plain": [
       "506"
      ]
     },
     "execution_count": 204,
     "metadata": {},
     "output_type": "execute_result"
    }
   ],
   "source": [
    "target.size"
   ]
  },
  {
   "cell_type": "code",
   "execution_count": 205,
   "metadata": {},
   "outputs": [
    {
     "data": {
      "text/plain": [
       "(506, 13)"
      ]
     },
     "execution_count": 205,
     "metadata": {},
     "output_type": "execute_result"
    }
   ],
   "source": [
    "features.shape"
   ]
  },
  {
   "cell_type": "code",
   "execution_count": 206,
   "metadata": {},
   "outputs": [
    {
     "data": {
      "text/plain": [
       "(506,)"
      ]
     },
     "execution_count": 206,
     "metadata": {},
     "output_type": "execute_result"
    }
   ],
   "source": [
    "target.shape"
   ]
  },
  {
   "cell_type": "markdown",
   "metadata": {},
   "source": [
    "## Experiment 2: \n",
    "Split the features and target values into separate training and test sets. Use 80% of the original data as a training set, and 20% for testing. To make sure that your results are reproducible, pass random_state=(2021-3-11)."
   ]
  },
  {
   "cell_type": "code",
   "execution_count": 207,
   "metadata": {},
   "outputs": [],
   "source": [
    " X_train, X_test, y_train, y_test = train_test_split(features, target, test_size=0.2, random_state=(2021-3-11))"
   ]
  },
  {
   "cell_type": "code",
   "execution_count": 208,
   "metadata": {},
   "outputs": [
    {
     "data": {
      "text/plain": [
       "5252"
      ]
     },
     "execution_count": 208,
     "metadata": {},
     "output_type": "execute_result"
    }
   ],
   "source": [
    "X_train.size"
   ]
  },
  {
   "cell_type": "code",
   "execution_count": 209,
   "metadata": {},
   "outputs": [
    {
     "data": {
      "text/plain": [
       "1326"
      ]
     },
     "execution_count": 209,
     "metadata": {},
     "output_type": "execute_result"
    }
   ],
   "source": [
    "X_test.size"
   ]
  },
  {
   "cell_type": "code",
   "execution_count": 210,
   "metadata": {},
   "outputs": [
    {
     "data": {
      "text/plain": [
       "404"
      ]
     },
     "execution_count": 210,
     "metadata": {},
     "output_type": "execute_result"
    }
   ],
   "source": [
    "y_train.size"
   ]
  },
  {
   "cell_type": "code",
   "execution_count": 211,
   "metadata": {},
   "outputs": [
    {
     "data": {
      "text/plain": [
       "102"
      ]
     },
     "execution_count": 211,
     "metadata": {},
     "output_type": "execute_result"
    }
   ],
   "source": [
    "y_test.size"
   ]
  },
  {
   "cell_type": "markdown",
   "metadata": {},
   "source": [
    "## Experiment 3: \n",
    "Create a scatterplot of the training data showing the relationship between the percentage of the population that is lower status and the median value of a home. Does the relationship appear to be linear? "
   ]
  },
  {
   "cell_type": "code",
   "execution_count": 212,
   "metadata": {},
   "outputs": [
    {
     "data": {
      "text/plain": [
       "404"
      ]
     },
     "execution_count": 212,
     "metadata": {},
     "output_type": "execute_result"
    }
   ],
   "source": [
    "lstat_train = X_train[:,12] [:,None] \n",
    "lstat_train.size"
   ]
  },
  {
   "cell_type": "code",
   "execution_count": 213,
   "metadata": {},
   "outputs": [
    {
     "data": {
      "text/plain": [
       "Text(0.5, 1.0, 'MEDV vs LSTAT')"
      ]
     },
     "execution_count": 213,
     "metadata": {},
     "output_type": "execute_result"
    },
    {
     "data": {
      "image/png": "[encoded data removed]",
      "text/plain": [
       "<Figure size 432x288 with 1 Axes>"
      ]
     },
     "metadata": {
      "needs_background": "light"
     },
     "output_type": "display_data"
    }
   ],
   "source": [
    "plt.scatter(lstat_train, y_train)\n",
    "plt.xlabel('LSTAT = the percentage of the population that is lower status')\n",
    "plt.ylabel('MEDV = the median value of a home' )\n",
    "plt.title('MEDV vs LSTAT')"
   ]
  },
  {
   "cell_type": "markdown",
   "metadata": {},
   "source": [
    "## The result of Experiment 3: \n",
    "The relationship between the percentage of the population that is lower status and the median value of a home appears to be moderately linear."
   ]
  },
  {
   "cell_type": "markdown",
   "metadata": {},
   "source": [
    "## Experiment 4: \n",
    "With LSTAT as X and MEDV as y, create and fit() an sklearn.linear_model.LinearRegression model. Using the coef_ and intercept_ attributes of the model, what is the equation for MEDV as a linear function of LSTAT?"
   ]
  },
  {
   "cell_type": "code",
   "execution_count": 214,
   "metadata": {},
   "outputs": [],
   "source": [
    "reg = LinearRegression().fit(lstat_train, y_train)"
   ]
  },
  {
   "cell_type": "code",
   "execution_count": 215,
   "metadata": {},
   "outputs": [
    {
     "data": {
      "text/plain": [
       "array([-0.98093888])"
      ]
     },
     "execution_count": 215,
     "metadata": {},
     "output_type": "execute_result"
    }
   ],
   "source": [
    "coefTrain = reg.coef_\n",
    "coefTrain"
   ]
  },
  {
   "cell_type": "code",
   "execution_count": 216,
   "metadata": {},
   "outputs": [
    {
     "data": {
      "text/plain": [
       "34.991133021969475"
      ]
     },
     "execution_count": 216,
     "metadata": {},
     "output_type": "execute_result"
    }
   ],
   "source": [
    "interceptTrain = reg.intercept_\n",
    "interceptTrain"
   ]
  },
  {
   "cell_type": "markdown",
   "metadata": {},
   "source": [
    "## The result of Experiment 4: \n",
    "The equation for MEDV as a linear function of LSTAT: f(x;w0,w1) = 34.991 - 0.981x"
   ]
  },
  {
   "cell_type": "markdown",
   "metadata": {},
   "source": [
    "## Experiment 5: \n",
    "Use the coef_ and intercept_ attributes of the model to add a line representing the least squares fit to your scatter plot from experiment (3). How well does the model appear to fit the training data?"
   ]
  },
  {
   "cell_type": "code",
   "execution_count": 217,
   "metadata": {},
   "outputs": [
    {
     "data": {
      "text/plain": [
       "[<matplotlib.lines.Line2D at 0x1cf5072cac0>]"
      ]
     },
     "execution_count": 217,
     "metadata": {},
     "output_type": "execute_result"
    },
    {
     "data": {
      "image/png": "[encoded data removed]",
      "text/plain": [
       "<Figure size 432x288 with 1 Axes>"
      ]
     },
     "metadata": {
      "needs_background": "light"
     },
     "output_type": "display_data"
    }
   ],
   "source": [
    "plt.xlabel('LSTAT = the percentage of the population that is lower status')\n",
    "plt.ylabel('MEDV = the median value of a home' )\n",
    "plt.title('MEDV vs LSTAT Linear Model')\n",
    "plt.scatter(lstat_train,y_train)\n",
    "plt.plot(lstat_train, interceptTrain + coefTrain*lstat_train, 'r') # The line represents the least squares fit  "
   ]
  },
  {
   "cell_type": "markdown",
   "metadata": {},
   "source": [
    "## The result of Experiment 5:\n",
    "The model appears to fit moderately well for the training set."
   ]
  },
  {
   "cell_type": "markdown",
   "metadata": {},
   "source": [
    "## Experiment 6: \n",
    "Use the predict() method of the model to find the response for each value of the LSTAT attribute in the training set. Using sklearn.metrics.mean_squared_error(), find the average loss 𝓛 for the training set."
   ]
  },
  {
   "cell_type": "code",
   "execution_count": 218,
   "metadata": {},
   "outputs": [],
   "source": [
    "predictedResponses = reg.predict(lstat_train)"
   ]
  },
  {
   "cell_type": "code",
   "execution_count": 219,
   "metadata": {},
   "outputs": [],
   "source": [
    "lossTraining = mean_squared_error(y_train, predictedResponses)"
   ]
  },
  {
   "cell_type": "code",
   "execution_count": 220,
   "metadata": {},
   "outputs": [
    {
     "data": {
      "text/plain": [
       "38.47893344802523"
      ]
     },
     "execution_count": 220,
     "metadata": {},
     "output_type": "execute_result"
    }
   ],
   "source": [
    "lossTraining.mean()"
   ]
  },
  {
   "cell_type": "markdown",
   "metadata": {},
   "source": [
    "## The result of Experiment 6: \n",
    "The averale loss of the training model with LSTAT attribute is 38.479"
   ]
  },
  {
   "cell_type": "markdown",
   "metadata": {},
   "source": [
    "## Experiment 7:\n",
    "Repeat experiment (6) for the test set. How do the training and test MSE values compare?"
   ]
  },
  {
   "cell_type": "code",
   "execution_count": 221,
   "metadata": {},
   "outputs": [],
   "source": [
    "lstat_test = X_test[:,12] [:,None] "
   ]
  },
  {
   "cell_type": "code",
   "execution_count": 222,
   "metadata": {},
   "outputs": [],
   "source": [
    "#reg = LinearRegression().fit(lstat_test, y_test)"
   ]
  },
  {
   "cell_type": "code",
   "execution_count": 223,
   "metadata": {},
   "outputs": [],
   "source": [
    "coefTest = reg.coef_"
   ]
  },
  {
   "cell_type": "code",
   "execution_count": 224,
   "metadata": {},
   "outputs": [],
   "source": [
    "interceptTest = reg.intercept_"
   ]
  },
  {
   "cell_type": "code",
   "execution_count": 225,
   "metadata": {},
   "outputs": [],
   "source": [
    "predictedResponses = reg.predict(lstat_test)"
   ]
  },
  {
   "cell_type": "code",
   "execution_count": 226,
   "metadata": {},
   "outputs": [],
   "source": [
    "lossTest = mean_squared_error(y_test, predictedResponses)"
   ]
  },
  {
   "cell_type": "code",
   "execution_count": 227,
   "metadata": {},
   "outputs": [
    {
     "data": {
      "text/plain": [
       "38.75054664279497"
      ]
     },
     "execution_count": 227,
     "metadata": {},
     "output_type": "execute_result"
    }
   ],
   "source": [
    "lossTest.mean()"
   ]
  },
  {
   "cell_type": "markdown",
   "metadata": {},
   "source": [
    "## The result of Experiment 7:\n",
    "The average loss of the test set with LSTAT attribute is 37.384. The training MSE is slightly higher than the test MSE. This result suggests that this linear model is underfitting the data meaning not a good fit for the data with LSTAT attribute."
   ]
  },
  {
   "cell_type": "markdown",
   "metadata": {},
   "source": [
    "## Experiment 8:\n",
    "Let’s see if we can fit the data better with a more flexible model. Use np.hstack() to add a degree-2 polynomial feature to X, then fit a new linear model. How do the training and test MSE values for this model compare to the previous model?"
   ]
  },
  {
   "cell_type": "code",
   "execution_count": 228,
   "metadata": {},
   "outputs": [],
   "source": [
    "lstat_train_squared = np.hstack((lstat_train,np.square(lstat_train))) "
   ]
  },
  {
   "cell_type": "code",
   "execution_count": 229,
   "metadata": {},
   "outputs": [],
   "source": [
    "reg1 = LinearRegression().fit(lstat_train_squared, y_train)\n",
    "coefTrain = reg1.coef_\n",
    "interceptTrain = reg1.intercept_"
   ]
  },
  {
   "cell_type": "code",
   "execution_count": 230,
   "metadata": {},
   "outputs": [],
   "source": [
    "predictedResponseTraining = reg1.predict(lstat_train_squared)"
   ]
  },
  {
   "cell_type": "code",
   "execution_count": 231,
   "metadata": {},
   "outputs": [],
   "source": [
    "lossTraining = mean_squared_error(y_train, predictedResponseTraining)"
   ]
  },
  {
   "cell_type": "code",
   "execution_count": 232,
   "metadata": {},
   "outputs": [
    {
     "data": {
      "text/plain": [
       "30.598514349370966"
      ]
     },
     "execution_count": 232,
     "metadata": {},
     "output_type": "execute_result"
    }
   ],
   "source": [
    "lossTraining.mean()"
   ]
  },
  {
   "cell_type": "code",
   "execution_count": 233,
   "metadata": {},
   "outputs": [],
   "source": [
    "lstat_test = X_test[:,12].reshape(-1, 1)\n",
    "lstat_test_squared = np.hstack((lstat_test,np.square(lstat_test)))\n",
    "#reg2 = LinearRegression().fit(lstat_test_squared, y_test)\n",
    "coefTest = reg1.coef_\n",
    "interceptTest = reg1.intercept_"
   ]
  },
  {
   "cell_type": "code",
   "execution_count": 234,
   "metadata": {},
   "outputs": [],
   "source": [
    "predictedResponseTest = reg1.predict(lstat_test_squared)"
   ]
  },
  {
   "cell_type": "code",
   "execution_count": 235,
   "metadata": {},
   "outputs": [
    {
     "data": {
      "text/plain": [
       "29.297124138279123"
      ]
     },
     "execution_count": 235,
     "metadata": {},
     "output_type": "execute_result"
    }
   ],
   "source": [
    "lossTest = mean_squared_error(y_test, predictedResponseTest)\n",
    "lossTest.mean()"
   ]
  },
  {
   "cell_type": "markdown",
   "metadata": {},
   "source": [
    "## The result of Experiment 8:\n",
    "The training MSE dropped from 38.479 to 30.599 and the test MSE also dropped from 37.384 to 29.15. Adding a degree 2 polynomial to the LSTAT feature caused about 20-22% reduction in both MSE values. "
   ]
  },
  {
   "cell_type": "markdown",
   "metadata": {},
   "source": [
    "## Experiment 9:\n",
    "Repeat experiment (5) for your polynomial model."
   ]
  },
  {
   "cell_type": "code",
   "execution_count": 236,
   "metadata": {},
   "outputs": [
    {
     "data": {
      "text/plain": [
       "[<matplotlib.lines.Line2D at 0x1cf50790670>]"
      ]
     },
     "execution_count": 236,
     "metadata": {},
     "output_type": "execute_result"
    },
    {
     "data": {
      "image/png": "[encoded data removed]",
      "text/plain": [
       "<Figure size 432x288 with 1 Axes>"
      ]
     },
     "metadata": {
      "needs_background": "light"
     },
     "output_type": "display_data"
    }
   ],
   "source": [
    "plt.xlabel('LSTAT = the percentage of the population that is lower status')\n",
    "plt.ylabel('MEDV = the median value of a home' )\n",
    "plt.title('MEDV vs LSTAT, Polynomial Degree = 2')\n",
    "plt.scatter(lstat_train,y_train) \n",
    "\n",
    "# Generating 100 evenly-spaced random set of x coordinates in order 100 between 0 and 40 considering the range of LSTAT values\n",
    "testX = np.linspace(0, 40, 100) \n",
    "\n",
    "# Finding corresponding y values of the random 100 points using the intercept and coeffients of the polynomial model from experiment (8)\n",
    "for i in testX:\n",
    "    predict_y = interceptTrain + coefTrain[0]*testX + coefTrain[1]*(testX**2)\n",
    "    \n",
    "plt.plot(testX, predict_y, 'r')"
   ]
  },
  {
   "cell_type": "markdown",
   "metadata": {},
   "source": [
    "## The result of Experiment 9:\n",
    "The polynomial model appears to fit better for the training set than the linear model from the experiment (5)."
   ]
  },
  {
   "cell_type": "markdown",
   "metadata": {},
   "source": [
    "## Experiment 10:\n",
    "Repeat experiments (4), (6), and (7) using all 13 input features as X. How do the training and test MSEs for this model (which is a linear model including all features) compare to the values you found for experiment (8) (which was a degree-2 polynomial model including a single feature)? What accounts for the difference?"
   ]
  },
  {
   "cell_type": "code",
   "execution_count": 237,
   "metadata": {},
   "outputs": [
    {
     "data": {
      "text/plain": [
       "21.046340805342368"
      ]
     },
     "execution_count": 237,
     "metadata": {},
     "output_type": "execute_result"
    }
   ],
   "source": [
    "reg = LinearRegression().fit(X_train, y_train)  \n",
    "predictedResponseTraining = reg.predict(X_train)\n",
    "lossTraining = mean_squared_error(y_train, predictedResponseTraining)\n",
    "lossTraining.mean()"
   ]
  },
  {
   "cell_type": "code",
   "execution_count": 238,
   "metadata": {},
   "outputs": [
    {
     "data": {
      "text/plain": [
       "25.976408935996655"
      ]
     },
     "execution_count": 238,
     "metadata": {},
     "output_type": "execute_result"
    }
   ],
   "source": [
    "#reg = LinearRegression().fit(X_test, y_test)\n",
    "predictedResponseTest = reg.predict(X_test)\n",
    "lossTest = mean_squared_error(y_test, predictedResponseTest)\n",
    "lossTest.mean()"
   ]
  },
  {
   "cell_type": "markdown",
   "metadata": {},
   "source": [
    "## The result of Experiment 10:\n",
    "The training and test MSEs of the linear model including all features are 21.046 and 20.784 respectively. Both the training and test MSEs for this model are smaller compared to the values found for experiment (8) using a degree-2 polynomial model including a single feature. When more features added to the model, the result of this experiment shows that the model can predict better. In our case we have used all 13 features in this model, so this made the linear model predict better by having a smaller loss (MSE) compared to using only one feature on the degree-2 polynomial model as in experiment (8)."
   ]
  },
  {
   "cell_type": "markdown",
   "metadata": {},
   "source": [
    "## Experiment 11:\n",
    "Combine experiments (8) and (10), using np.hstack() to add the squares of all 13 input features to X. How do this model’s training and test MSE scores compare to the previous model using all 13 features?"
   ]
  },
  {
   "cell_type": "code",
   "execution_count": 239,
   "metadata": {},
   "outputs": [
    {
     "data": {
      "text/plain": [
       "13.508100802461723"
      ]
     },
     "execution_count": 239,
     "metadata": {},
     "output_type": "execute_result"
    }
   ],
   "source": [
    "X_train_squared = np.hstack((X_train,np.square(X_train))) \n",
    "reg = LinearRegression().fit(X_train_squared, y_train)\n",
    "\n",
    "predictedResponseTraining = reg.predict(X_train_squared)\n",
    "lossTraining = mean_squared_error(y_train, predictedResponseTraining)\n",
    "lossTraining.mean()"
   ]
  },
  {
   "cell_type": "code",
   "execution_count": 240,
   "metadata": {},
   "outputs": [
    {
     "data": {
      "text/plain": [
       "17.857896093014343"
      ]
     },
     "execution_count": 240,
     "metadata": {},
     "output_type": "execute_result"
    }
   ],
   "source": [
    "X_test_squared = np.hstack((X_test,np.square(X_test))) \n",
    "#reg = LinearRegression().fit(X_test_squared, y_test)\n",
    "\n",
    "predictedResponseTest = reg.predict(X_test_squared)\n",
    "lossTest = mean_squared_error(y_test, predictedResponseTest)\n",
    "lossTest.mean()"
   ]
  },
  {
   "cell_type": "markdown",
   "metadata": {},
   "source": [
    "## The result of Experiment 11:\n",
    "The training and test MSEs of the degree-2 polynomial model including all features are 13.508 and 12.683 respectively. Both the training and test MSEs for this model are smaller compared to the previous linear model including all features. This is another indication that shows the degree-2 polynomial model seems to be predict better than a linear model for this dataset.  "
   ]
  },
  {
   "cell_type": "markdown",
   "metadata": {},
   "source": [
    "## Experiment 12:\n",
    "Use the fit_transform() method to create degree-2 polynomial and interaction terms for the original set of 13 features, then fit a new linear model. Compare the training and test MSE to the previous model. What is the effect of adding interaction terms in this case? Do we seem to be overfitting?"
   ]
  },
  {
   "cell_type": "code",
   "execution_count": 241,
   "metadata": {},
   "outputs": [
    {
     "data": {
      "text/plain": [
       "11.357290563081778"
      ]
     },
     "execution_count": 241,
     "metadata": {},
     "output_type": "execute_result"
    }
   ],
   "source": [
    "poly = PolynomialFeatures(degree = 2,interaction_only=True)\n",
    "X_poly = poly.fit_transform(X_train) \n",
    "  \n",
    "#poly.fit(X_poly, y_train) \n",
    "reg = LinearRegression().fit(X_poly, y_train) \n",
    "\n",
    "predictedResponseTrain = reg.predict(X_poly)\n",
    "lossTraining = mean_squared_error(y_train, predictedResponseTrain)\n",
    "lossTraining.mean()"
   ]
  },
  {
   "cell_type": "code",
   "execution_count": 242,
   "metadata": {},
   "outputs": [
    {
     "data": {
      "text/plain": [
       "30.064456024888532"
      ]
     },
     "execution_count": 242,
     "metadata": {},
     "output_type": "execute_result"
    }
   ],
   "source": [
    "#X_polyTest = poly.fit_transform(X_test) \n",
    "  \n",
    "#poly.fit(X_polyTest, y_test) \n",
    "#reg = LinearRegression().fit(X_polyTest, y_test) \n",
    "\n",
    "predictedResponseTest = reg.predict(poly.fit_transform(X_test))\n",
    "lossTest = mean_squared_error(y_test, predictedResponseTest)\n",
    "lossTest.mean()"
   ]
  },
  {
   "cell_type": "markdown",
   "metadata": {},
   "source": [
    "## The result of Experiment 12:\n",
    "In this degree-2 polynomial model including interaction terms for the original set of 13 features the training MSE decreased from 13.508 to 11.357 and the test MSE increased from 12.683 to 13.308 compared to the previous degree-2 polynomial model with only addition of the squares of all 13 input features. Adding interaction terms to this model seems to cause higher variance/lower bias and therefore the risk of overfitting seems to be greater due to lower training MSE and higher test MSE. \n"
   ]
  }
 ],
 "metadata": {
  "kernelspec": {
   "display_name": "Python 3",
   "language": "python",
   "name": "python3"
  },
  "language_info": {
   "codemirror_mode": {
    "name": "ipython",
    "version": 3
   },
   "file_extension": ".py",
   "mimetype": "text/x-python",
   "name": "python",
   "nbconvert_exporter": "python",
   "pygments_lexer": "ipython3",
   "version": "3.8.3"
  }
 },
 "nbformat": 4,
 "nbformat_minor": 4
}
